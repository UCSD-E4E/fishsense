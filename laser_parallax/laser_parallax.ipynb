{
 "cells": [
  {
   "cell_type": "code",
   "execution_count": 1,
   "metadata": {},
   "outputs": [],
   "source": [
    "import numpy as np"
   ]
  },
  {
   "attachments": {},
   "cell_type": "markdown",
   "metadata": {},
   "source": [
    "There is a question - can we use a laser rangefinder (or something similar) to do fish length detection?\n",
    "\n",
    "Let's try to answer this with a calibrated laser pair.  This solution uses a pair of parallel laser pointers to project two dots with a nominal separation onto a surface that can then be imaged.  Due to perspective, the corresponding pixel locations of the laser dots changes with the distance to the surface, so we can estimate the distance of the surface."
   ]
  },
  {
   "attachments": {},
   "cell_type": "markdown",
   "metadata": {},
   "source": [
    "Let's set the stage for this.  For all simulations, we will use a pinhole camera model.  We'll make life easy and assume an Olympus TG-6 at the widest angle setting, and ignore the air-lens-water interface.\n",
    "\n",
    "Thus, we have the following parameters:\n",
    "- Sensor size (width x height): 4000 x 3000\n",
    "- Pixel Pitch (um): 1.5\n",
    "- Focal Length (mm): 4.5\n",
    "\n",
    "Let's place two lasers pointed parallel to the optical axis with a baseline of 50 mm (one 25 mm to the left, one 25 mm to the right).  We will define the global origin on center of the sensor, with $x$ along the width of the sensor, $y$ along the height of the sensor, and $z$ pointing out of the camera into the lens."
   ]
  },
  {
   "cell_type": "code",
   "execution_count": 2,
   "metadata": {},
   "outputs": [],
   "source": [
    "sensor_size_px = np.array([4000, 3000])\n",
    "pixel_pitch_mm = 0.0015\n",
    "focal_length_mm = 4.5\n",
    "laser_1_origin = np.array([-0.025, 0, 0])\n",
    "laser_1_axis = np.array([0, 0, 1])\n",
    "laser_2_origin = np.array([0.025, 0, 0])\n",
    "laser_2_axis = np.array([0, 0, 1])"
   ]
  },
  {
   "attachments": {},
   "cell_type": "markdown",
   "metadata": {},
   "source": [
    "Let's assume we have a flat object 1 m from the sensor.  The lasers will project two dots, 50 mm apart from each other long the y axis.  Specifically, we will have two dots, one at [-0.025, 0, 1], and one at [0.025, 0, 1]."
   ]
  },
  {
   "cell_type": "code",
   "execution_count": 3,
   "metadata": {},
   "outputs": [],
   "source": [
    "plane_normal = np.array([0, 0, 1])\n",
    "plane_origin = np.array([0, 0, 1])"
   ]
  },
  {
   "attachments": {},
   "cell_type": "markdown",
   "metadata": {},
   "source": [
    "For a plane defined as $\\left<\\left(\\mathbf{p} - \\mathbf{p_0}\\right), \\mathbf{n}\\right> = 0$ and a vector defined as $\\mathbf{p} = \\mathbf{l_0} + \\mathbf{l}d, d \\in \\mathbb{R}$, the point of intersection is the point on the vector such that $d = \\frac{\\left<\\left(\\mathbf{p_0} - \\mathbf{l_0}\\right), \\mathbf{n}\\right>}{\\left<\\mathbf{l}, \\mathbf{n}\\right>}$"
   ]
  },
  {
   "cell_type": "code",
   "execution_count": 4,
   "metadata": {},
   "outputs": [
    {
     "data": {
      "text/plain": [
       "(array([-0.025,  0.   ,  1.   ]), array([0.025, 0.   , 1.   ]))"
      ]
     },
     "execution_count": 4,
     "metadata": {},
     "output_type": "execute_result"
    }
   ],
   "source": [
    "laser_1_scalar = np.dot((plane_origin - laser_1_origin), plane_normal) / np.dot(laser_1_axis, plane_normal)\n",
    "laser_1_dot = laser_1_origin + laser_1_axis * laser_1_scalar\n",
    "laser_2_scalar = np.dot((plane_origin - laser_2_origin), plane_normal) / np.dot(laser_2_axis, plane_normal)\n",
    "laser_2_dot = laser_2_origin + laser_2_axis * laser_2_scalar\n",
    "laser_1_dot, laser_2_dot"
   ]
  },
  {
   "attachments": {},
   "cell_type": "markdown",
   "metadata": {},
   "source": [
    "Any point $[x_1, x_2, x_3]$ in the world in the field of view will project onto the image plane as follows:\n",
    "$$ \\begin{pmatrix}y_1\\\\y_2\\end{pmatrix} = -\\frac{f}{x_3}\\begin{pmatrix}x_1\\\\x_2\\end{pmatrix} $$"
   ]
  },
  {
   "cell_type": "code",
   "execution_count": 5,
   "metadata": {},
   "outputs": [
    {
     "data": {
      "text/plain": [
       "(array([75., -0.]), array([-75.,  -0.]))"
      ]
     },
     "execution_count": 5,
     "metadata": {},
     "output_type": "execute_result"
    }
   ],
   "source": [
    "laser_1_projection = -focal_length_mm / 1e3 / laser_1_dot[2] * laser_1_dot[0:2] / (pixel_pitch_mm / 1e3) # in pixels\n",
    "laser_2_projection = -focal_length_mm / 1e3 / laser_2_dot[2] * laser_2_dot[0:2] / (pixel_pitch_mm / 1e3) # in pixels\n",
    "laser_1_projection, laser_2_projection"
   ]
  },
  {
   "cell_type": "code",
   "execution_count": null,
   "metadata": {},
   "outputs": [],
   "source": []
  }
 ],
 "metadata": {
  "kernelspec": {
   "display_name": ".venv",
   "language": "python",
   "name": "python3"
  },
  "language_info": {
   "codemirror_mode": {
    "name": "ipython",
    "version": 3
   },
   "file_extension": ".py",
   "mimetype": "text/x-python",
   "name": "python",
   "nbconvert_exporter": "python",
   "pygments_lexer": "ipython3",
   "version": "3.9.12"
  },
  "orig_nbformat": 4,
  "vscode": {
   "interpreter": {
    "hash": "b2819ea74c09d667d001c29f433ea8c6ab288d92dbc7870b69a83f09b0b7d819"
   }
  }
 },
 "nbformat": 4,
 "nbformat_minor": 2
}
