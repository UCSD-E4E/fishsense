{
 "cells": [
  {
   "cell_type": "code",
   "execution_count": 1,
   "metadata": {},
   "outputs": [],
   "source": [
    "import numpy as np"
   ]
  },
  {
   "attachments": {},
   "cell_type": "markdown",
   "metadata": {},
   "source": [
    "There is a question - can we use a dumb laser rangefinder (or something similar) to do fish length detection?\n",
    "\n",
    "Let's try to answer this with a laser pointer.  This solution uses a single laser pointers to project a dot onto a surface that can then be imaged.  Due to perspective, the corresponding pixel location of the laser dot changes with the distance to the surface, so we can estimate the distance of the surface."
   ]
  },
  {
   "attachments": {},
   "cell_type": "markdown",
   "metadata": {},
   "source": [
    "Let's set the stage for this.  For all simulations, we will use a pinhole camera model.  We'll make life easy and assume an Olympus TG-6 at the widest angle setting, and ignore the air-lens-water interface.\n",
    "\n",
    "Thus, we have the following parameters:\n",
    "- Sensor size (width x height): 4000 x 3000\n",
    "- Pixel Pitch (um): 1.5\n",
    "- Focal Length (mm): 4.5\n",
    "\n",
    "Let's place one lasers pointed parallel to the optical axis with a baseline separation of 50 mm to the left of the optical axis.  We will define the global origin on center of the sensor, with $x$ along the width of the sensor, $y$ along the height of the sensor, and $z$ pointing out of the camera into the lens."
   ]
  },
  {
   "cell_type": "code",
   "execution_count": 2,
   "metadata": {},
   "outputs": [],
   "source": [
    "sensor_size_px = np.array([4000, 3000])\n",
    "pixel_pitch_mm = 0.0015\n",
    "focal_length_mm = 4.5\n",
    "laser_1_origin = np.array([0.05, 0.05, 0])\n",
    "laser_1_axis = np.array([0, 0, 1])"
   ]
  },
  {
   "attachments": {},
   "cell_type": "markdown",
   "metadata": {},
   "source": [
    "Let's assume we have a flat object 1 m from the sensor.  The lasers will project one dot onto the object.  Specifically, we will have a dot at [-0.050, 0, 1]."
   ]
  },
  {
   "cell_type": "code",
   "execution_count": 3,
   "metadata": {},
   "outputs": [],
   "source": [
    "plane_normal = np.array([0, 0, 1])\n",
    "plane_origin = np.array([0, 0, 5])"
   ]
  },
  {
   "attachments": {},
   "cell_type": "markdown",
   "metadata": {},
   "source": [
    "For a plane defined as $\\left<\\left(\\mathbf{p} - \\mathbf{p_0}\\right), \\mathbf{n}\\right> = 0$ and a vector defined as $\\mathbf{p} = \\mathbf{l_0} + \\mathbf{l}d, d \\in \\mathbb{R}$, the point of intersection is the point on the vector such that $d = \\frac{\\left<\\left(\\mathbf{p_0} - \\mathbf{l_0}\\right), \\mathbf{n}\\right>}{\\left<\\mathbf{l}, \\mathbf{n}\\right>}$"
   ]
  },
  {
   "cell_type": "code",
   "execution_count": 4,
   "metadata": {},
   "outputs": [
    {
     "data": {
      "text/plain": [
       "array([0.05, 0.05, 5.  ])"
      ]
     },
     "execution_count": 4,
     "metadata": {},
     "output_type": "execute_result"
    }
   ],
   "source": [
    "laser_1_scalar = np.dot((plane_origin - laser_1_origin), plane_normal) / np.dot(laser_1_axis, plane_normal)\n",
    "laser_1_dot = laser_1_origin + laser_1_axis * laser_1_scalar\n",
    "laser_1_dot"
   ]
  },
  {
   "attachments": {},
   "cell_type": "markdown",
   "metadata": {},
   "source": [
    "Any point $[x_1, x_2, x_3]$ in the world in the field of view will project onto the image plane as follows:\n",
    "$$ \\begin{pmatrix}y_1\\\\y_2\\end{pmatrix} = -\\frac{f}{x_3}\\begin{pmatrix}x_1\\\\x_2\\end{pmatrix} $$"
   ]
  },
  {
   "cell_type": "code",
   "execution_count": 5,
   "metadata": {},
   "outputs": [
    {
     "data": {
      "text/plain": [
       "array([-30., -30.])"
      ]
     },
     "execution_count": 5,
     "metadata": {},
     "output_type": "execute_result"
    }
   ],
   "source": [
    "laser_1_projection = -focal_length_mm / 1e3 / laser_1_dot[2] * laser_1_dot[0:2] / (pixel_pitch_mm / 1e3) # in pixels\n",
    "laser_1_projection"
   ]
  },
  {
   "cell_type": "code",
   "execution_count": 6,
   "metadata": {},
   "outputs": [],
   "source": [
    "def image_coordinate_to_projected_point(S):\n",
    "    assert isinstance(S, np.ndarray)\n",
    "    # S += sensor_size_px / 2\n",
    "    I_project = S * pixel_pitch_mm / 1e3\n",
    "    I = np.array([I_project[0], I_project[1], -focal_length_mm / 1e3])\n",
    "    return I\n"
   ]
  },
  {
   "cell_type": "code",
   "execution_count": 7,
   "metadata": {},
   "outputs": [
    {
     "data": {
      "text/plain": [
       "array([-4.5e-05, -4.5e-05, -4.5e-03])"
      ]
     },
     "execution_count": 7,
     "metadata": {},
     "output_type": "execute_result"
    }
   ],
   "source": [
    "projected_point = image_coordinate_to_projected_point(laser_1_projection)\n",
    "projected_point"
   ]
  },
  {
   "cell_type": "code",
   "execution_count": 8,
   "metadata": {},
   "outputs": [
    {
     "data": {
      "text/plain": [
       "array([0.009999  , 0.009999  , 0.99990001])"
      ]
     },
     "execution_count": 8,
     "metadata": {},
     "output_type": "execute_result"
    }
   ],
   "source": [
    "final_laser_axis = -projected_point / np.linalg.norm(projected_point)\n",
    "final_laser_axis"
   ]
  },
  {
   "attachments": {},
   "cell_type": "markdown",
   "metadata": {},
   "source": [
    "Let $\\ell$ be the laser origin, $\\alpha$ be the laser axis, $v$ be the final laser axis, $p$ be the real world laser point\n",
    "\n",
    "Because we know both are the laser line, they should intersect.\n",
    "\n",
    "Thus, we can define the following constants:\n",
    "\n",
    "$$k_1 | k_1 \\alpha + \\ell = p$$\n",
    "$$k_2 | k_2 v = p$$"
   ]
  },
  {
   "attachments": {},
   "cell_type": "markdown",
   "metadata": {},
   "source": [
    "Thus, we can break this down into three equations with two unknowns.\n",
    "\n",
    "$$k_1 \\alpha + \\ell = k_2 v$$\n",
    "\n",
    "Thus:\n",
    "$$ k_1 a_x + \\ell_x = k_2 v_x$$\n",
    "$$ k_1 a_z = k_2 v_z$$\n",
    "$$ k_1 = \\frac{k_2 v_z}{a_z}$$\n",
    "$$a_x \\left(\\frac{k_2 v_z}{a_z}\\right) + \\ell_x = k_2 v_x$$\n",
    "$$\\left(\\frac{a_x v_z}{a_z}\\right) k_2 - k_2 v_x = -\\ell_x$$\n",
    "$$k_2 \\left(\\frac{a_x v_z}{a_z} - v_x\\right) = -\\ell_x$$\n",
    "$$k_2 = \\frac{-\\ell_x}{\\frac{a_x v_z}{a_z} - v_x} = \\frac{-a_z \\ell_x}{a_x v_z - a_z v_x}$$"
   ]
  },
  {
   "cell_type": "code",
   "execution_count": 9,
   "metadata": {},
   "outputs": [
    {
     "data": {
      "text/plain": [
       "5.0004999750025005"
      ]
     },
     "execution_count": 9,
     "metadata": {},
     "output_type": "execute_result"
    }
   ],
   "source": [
    "k_2 = (-laser_1_axis[2] * laser_1_origin[0]) / (laser_1_axis[0] * final_laser_axis[2] - laser_1_axis[2] * final_laser_axis[0])\n",
    "k_2"
   ]
  },
  {
   "cell_type": "code",
   "execution_count": 10,
   "metadata": {},
   "outputs": [
    {
     "data": {
      "text/plain": [
       "array([0.05, 0.05, 5.  ])"
      ]
     },
     "execution_count": 10,
     "metadata": {},
     "output_type": "execute_result"
    }
   ],
   "source": [
    "world_point = k_2 * final_laser_axis\n",
    "world_point"
   ]
  },
  {
   "cell_type": "code",
   "execution_count": 11,
   "metadata": {},
   "outputs": [
    {
     "data": {
      "text/plain": [
       "array([0.05, 0.05, 0.  ])"
      ]
     },
     "execution_count": 11,
     "metadata": {},
     "output_type": "execute_result"
    }
   ],
   "source": [
    "laser_1_origin"
   ]
  },
  {
   "attachments": {},
   "cell_type": "markdown",
   "metadata": {},
   "source": [
    "$$\\begin{bmatrix}\n",
    "\\alpha_x & -v_x\\\\\n",
    "\\alpha_y & -v_y\\\\\n",
    "\\alpha_z & -v_z\n",
    "\\end{bmatrix} \\begin{bmatrix}\n",
    "k_1\\\\\n",
    "k_2\n",
    "\\end{bmatrix} = \\begin{bmatrix}\n",
    "- \\ell_x\\\\\n",
    "- \\ell_y\\\\\n",
    "0\n",
    "\\end{bmatrix}$$\n",
    "\n",
    "$$A^T A = \\begin{bmatrix}\n",
    "\\alpha_x & \\alpha_y & \\alpha_z\\\\\n",
    "-v_x & -v_y & -v_z\n",
    "\\end{bmatrix} \\begin{bmatrix}\n",
    "\\alpha_x & -v_x\\\\\n",
    "\\alpha_y & -v_y\\\\\n",
    "\\alpha_z & -v_z\n",
    "\\end{bmatrix} = \\begin{bmatrix}\n",
    "\\alpha_x^2 + \\alpha_y^2 + \\alpha_z^2 & -\\alpha_x v_x - \\alpha_y v_y - \\alpha_z v_y\\\\\n",
    "-\\alpha_x v_x - \\alpha_y v_y - \\alpha_z v_y & v_x^2 + v_y^2 + v_z^2\n",
    "\\end{bmatrix} = \\begin{bmatrix}\n",
    "||\\alpha||^2 & -\\alpha^T v\\\\\n",
    "-\\alpha^T v & ||v||^2\n",
    "\\end{bmatrix}$$\n",
    "\n",
    "Because $\\alpha$ and $v$ are unit vectors\n",
    "\n",
    "$$A^T A = \\begin{bmatrix}\n",
    "1 & -\\alpha^T v\\\\\n",
    "-\\alpha^T v & 1\n",
    "\\end{bmatrix}$$\n",
    "\n",
    "$$A^T \\ell = \\begin{bmatrix}\n",
    "\\alpha_x & \\alpha_y & \\alpha_z\\\\\n",
    "-v_x & -v_y & -v_z\n",
    "\\end{bmatrix} \\begin{bmatrix}\n",
    "- \\ell_x\\\\\n",
    "- \\ell_y\\\\\n",
    "0\n",
    "\\end{bmatrix} = \\begin{bmatrix}\n",
    "- \\ell_x \\alpha_x + -\\ell_y \\alpha_y\\\\\n",
    "\\ell_x v_x + \\ell_y v_y\n",
    "\\end{bmatrix} = \\begin{bmatrix}\n",
    "-\\alpha^T \\ell\\\\\n",
    "v^T \\ell\n",
    "\\end{bmatrix}$$"
   ]
  },
  {
   "attachments": {},
   "cell_type": "markdown",
   "metadata": {},
   "source": [
    "$$\\begin{bmatrix}\n",
    "1 & -\\alpha^T v & -\\alpha^T \\ell\\\\\n",
    "-\\alpha^T v & 1 & v^T \\ell\n",
    "\\end{bmatrix} \\sim \\begin{bmatrix}\n",
    "1 & - \\alpha^T v & -\\alpha^T \\ell\\\\\n",
    "-1 & \\frac{1}{\\alpha^T v} & \\frac{v^T \\ell}{\\alpha^T v}\n",
    "\\end{bmatrix} \\sim \\begin{bmatrix}\n",
    "1 & - \\alpha^T v & -\\alpha^T \\ell\\\\\n",
    "0 & \\frac{1}{\\alpha^T v} - \\alpha^T v & -\\alpha^T \\ell + \\frac{v^T \\ell}{\\alpha^T v}\n",
    "\\end{bmatrix}$$\n",
    "\n",
    "$$\\sim \\begin{bmatrix}\n",
    "1 & -\\alpha^T v & -\\alpha^T \\ell\\\\\n",
    "0 & \\frac{1}{\\alpha^T v} - \\alpha^T v & -\\alpha^T \\ell + \\frac{v^T \\ell}{\\alpha^T v}\n",
    "\\end{bmatrix} \\sim \\begin{bmatrix}\n",
    "1 & - \\alpha^T v & -\\alpha^T \\ell\\\\\n",
    "0 & 1 & \\left( -\\alpha^T \\ell + \\frac{v^T \\ell}{\\alpha^T v} \\right) \\left( \\frac{1}{\\frac{1}{\\alpha^T v}} - \\alpha^T v \\right)\n",
    "\\end{bmatrix}$$"
   ]
  },
  {
   "attachments": {},
   "cell_type": "markdown",
   "metadata": {},
   "source": [
    "$$k_2 = \\left( -\\alpha \\ell + \\frac{v^T \\ell}{\\alpha^T v} \\right) \\left( \\frac{1}{\\frac{1}{\\alpha^T v} - \\alpha^T v} \\right)$$\n",
    "$$ = \\frac{-\\alpha^T \\ell \\alpha^T v + v^T \\ell}{\\alpha^T v} \\frac{\\alpha^T v}{1 - \\alpha^T v \\alpha^T v}$$\n",
    "$$ = \\frac{-\\alpha^T \\ell \\alpha^T v + v^T \\ell}{1 - (\\alpha^T v)^2}$$"
   ]
  },
  {
   "cell_type": "code",
   "execution_count": 12,
   "metadata": {},
   "outputs": [
    {
     "data": {
      "text/plain": [
       "5.000499975003039"
      ]
     },
     "execution_count": 12,
     "metadata": {},
     "output_type": "execute_result"
    }
   ],
   "source": [
    "\n",
    "k2_ls = ((final_laser_axis.T @ laser_1_origin) - ((laser_1_axis.T @ laser_1_origin) * (laser_1_axis.T @ final_laser_axis))) / \\\n",
    "                    (1 - (laser_1_axis.T @ final_laser_axis) ** 2)\n",
    "\n",
    "k2_ls"
   ]
  },
  {
   "cell_type": "code",
   "execution_count": 13,
   "metadata": {},
   "outputs": [
    {
     "data": {
      "text/plain": [
       "array([0.05, 0.05, 5.  ])"
      ]
     },
     "execution_count": 13,
     "metadata": {},
     "output_type": "execute_result"
    }
   ],
   "source": [
    "world_point = k2_ls * final_laser_axis\n",
    "world_point"
   ]
  },
  {
   "cell_type": "code",
   "execution_count": 14,
   "metadata": {},
   "outputs": [
    {
     "data": {
      "text/plain": [
       "array([0.05, 0.05, 0.  ])"
      ]
     },
     "execution_count": 14,
     "metadata": {},
     "output_type": "execute_result"
    }
   ],
   "source": [
    "laser_1_origin"
   ]
  }
 ],
 "metadata": {
  "kernelspec": {
   "display_name": ".venv",
   "language": "python",
   "name": "python3"
  },
  "language_info": {
   "codemirror_mode": {
    "name": "ipython",
    "version": 3
   },
   "file_extension": ".py",
   "mimetype": "text/x-python",
   "name": "python",
   "nbconvert_exporter": "python",
   "pygments_lexer": "ipython3",
   "version": "3.11.1"
  },
  "orig_nbformat": 4,
  "vscode": {
   "interpreter": {
    "hash": "b2819ea74c09d667d001c29f433ea8c6ab288d92dbc7870b69a83f09b0b7d819"
   }
  }
 },
 "nbformat": 4,
 "nbformat_minor": 2
}
