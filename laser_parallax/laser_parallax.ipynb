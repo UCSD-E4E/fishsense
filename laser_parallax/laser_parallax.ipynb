{
 "cells": [
  {
   "cell_type": "code",
   "execution_count": 84,
   "metadata": {},
   "outputs": [],
   "source": [
    "import numpy as np"
   ]
  },
  {
   "attachments": {},
   "cell_type": "markdown",
   "metadata": {},
   "source": [
    "There is a question - can we use a dumb laser rangefinder (or something similar) to do fish length detection?\n",
    "\n",
    "Let's try to answer this with a laser pointer.  This solution uses a single laser pointers to project a dot onto a surface that can then be imaged.  Due to perspective, the corresponding pixel location of the laser dot changes with the distance to the surface, so we can estimate the distance of the surface."
   ]
  },
  {
   "attachments": {},
   "cell_type": "markdown",
   "metadata": {},
   "source": [
    "Let's set the stage for this.  For all simulations, we will use a pinhole camera model.  We'll make life easy and assume an Olympus TG-6 at the widest angle setting, and ignore the air-lens-water interface.\n",
    "\n",
    "Thus, we have the following parameters:\n",
    "- Sensor size (width x height): 4000 x 3000\n",
    "- Pixel Pitch (um): 1.5\n",
    "- Focal Length (mm): 4.5\n",
    "\n",
    "Let's place one lasers pointed parallel to the optical axis with a baseline separation of 50 mm to the left of the optical axis.  We will define the global origin on center of the sensor, with $x$ along the width of the sensor, $y$ along the height of the sensor, and $z$ pointing out of the camera into the lens."
   ]
  },
  {
   "cell_type": "code",
   "execution_count": 85,
   "metadata": {},
   "outputs": [],
   "source": [
    "sensor_size_px = np.array([4000, 3000])\n",
    "pixel_pitch_mm = 0.0015\n",
    "focal_length_mm = 4.5\n",
    "laser_1_origin = np.array([0.05, 0.05, 0])\n",
    "laser_1_axis = np.array([0, 0, 1])"
   ]
  },
  {
   "attachments": {},
   "cell_type": "markdown",
   "metadata": {},
   "source": [
    "Let's assume we have a flat object 1 m from the sensor.  The lasers will project one dot onto the object.  Specifically, we will have a dot at [-0.050, 0, 1]."
   ]
  },
  {
   "cell_type": "code",
   "execution_count": 86,
   "metadata": {},
   "outputs": [],
   "source": [
    "plane_normal = np.array([0, 0, 1])\n",
    "plane_origin = np.array([0, 0, 5])"
   ]
  },
  {
   "attachments": {},
   "cell_type": "markdown",
   "metadata": {},
   "source": [
    "For a plane defined as $\\left<\\left(\\mathbf{p} - \\mathbf{p_0}\\right), \\mathbf{n}\\right> = 0$ and a vector defined as $\\mathbf{p} = \\mathbf{l_0} + \\mathbf{l}d, d \\in \\mathbb{R}$, the point of intersection is the point on the vector such that $d = \\frac{\\left<\\left(\\mathbf{p_0} - \\mathbf{l_0}\\right), \\mathbf{n}\\right>}{\\left<\\mathbf{l}, \\mathbf{n}\\right>}$"
   ]
  },
  {
   "cell_type": "code",
   "execution_count": 87,
   "metadata": {},
   "outputs": [
    {
     "data": {
      "text/plain": [
       "array([0.05, 0.05, 5.  ])"
      ]
     },
     "execution_count": 87,
     "metadata": {},
     "output_type": "execute_result"
    }
   ],
   "source": [
    "laser_1_scalar = np.dot((plane_origin - laser_1_origin), plane_normal) / np.dot(laser_1_axis, plane_normal)\n",
    "laser_1_dot = laser_1_origin + laser_1_axis * laser_1_scalar\n",
    "laser_1_dot"
   ]
  },
  {
   "attachments": {},
   "cell_type": "markdown",
   "metadata": {},
   "source": [
    "Any point $[x_1, x_2, x_3]$ in the world in the field of view will project onto the image plane as follows:\n",
    "$$ \\begin{pmatrix}y_1\\\\y_2\\end{pmatrix} = -\\frac{f}{x_3}\\begin{pmatrix}x_1\\\\x_2\\end{pmatrix} $$"
   ]
  },
  {
   "cell_type": "code",
   "execution_count": 88,
   "metadata": {},
   "outputs": [
    {
     "data": {
      "text/plain": [
       "array([-30., -30.])"
      ]
     },
     "execution_count": 88,
     "metadata": {},
     "output_type": "execute_result"
    }
   ],
   "source": [
    "laser_1_projection = -focal_length_mm / 1e3 / laser_1_dot[2] * laser_1_dot[0:2] / (pixel_pitch_mm / 1e3) # in pixels\n",
    "laser_1_projection"
   ]
  },
  {
   "cell_type": "code",
   "execution_count": 89,
   "metadata": {},
   "outputs": [],
   "source": [
    "def image_coordinate_to_projected_point(S):\n",
    "    assert isinstance(S, np.ndarray)\n",
    "    # S += sensor_size_px / 2\n",
    "    I_project = S * pixel_pitch_mm / 1e3\n",
    "    I = np.array([I_project[0], I_project[1], -focal_length_mm / 1e3])\n",
    "    return I\n"
   ]
  },
  {
   "cell_type": "code",
   "execution_count": 90,
   "metadata": {},
   "outputs": [
    {
     "data": {
      "text/plain": [
       "array([-4.5e-05, -4.5e-05, -4.5e-03])"
      ]
     },
     "execution_count": 90,
     "metadata": {},
     "output_type": "execute_result"
    }
   ],
   "source": [
    "projected_point = image_coordinate_to_projected_point(laser_1_projection)\n",
    "projected_point"
   ]
  },
  {
   "cell_type": "code",
   "execution_count": 91,
   "metadata": {},
   "outputs": [
    {
     "data": {
      "text/plain": [
       "array([0.009999  , 0.009999  , 0.99990001])"
      ]
     },
     "execution_count": 91,
     "metadata": {},
     "output_type": "execute_result"
    }
   ],
   "source": [
    "final_laser_axis = -projected_point / np.linalg.norm(projected_point)\n",
    "final_laser_axis"
   ]
  },
  {
   "attachments": {},
   "cell_type": "markdown",
   "metadata": {},
   "source": [
    "Let $\\ell$ be the laser origin, $\\alpha$ be the laser axis, $v$ be the final laser axis, $p$ be the real world laser point\n",
    "\n",
    "Because we know both are the laser line, they should intersect.\n",
    "\n",
    "Thus, we can define the following constants:\n",
    "\n",
    "$$k_1 | k_1 \\alpha + \\ell = p$$\n",
    "$$k_2 | k_2 v = p$$"
   ]
  },
  {
   "attachments": {},
   "cell_type": "markdown",
   "metadata": {},
   "source": [
    "Thus, we can break this down into three equations with two unknowns.\n",
    "\n",
    "$$k_1 \\alpha + \\ell = k_2 v$$\n",
    "\n",
    "Thus:\n",
    "$$ k_1 a_x + \\ell_x = k_2 v_x$$\n",
    "$$ k_1 a_z = k_2 v_z$$\n",
    "$$ k_1 = \\frac{k_2 v_z}{a_z}$$\n",
    "$$a_x \\left(\\frac{k_2 v_z}{a_z}\\right) + \\ell_x = k_2 v_x$$\n",
    "$$\\left(\\frac{a_x v_z}{a_z}\\right) k_2 - k_2 v_x = -\\ell_x$$\n",
    "$$k_2 \\left(\\frac{a_x v_z}{a_z} - v_x\\right) = -\\ell_x$$\n",
    "$$k_2 = \\frac{-\\ell_x}{\\frac{a_x v_z}{a_z} - v_x} = \\frac{-a_z \\ell_x}{a_x v_z - a_z v_x}$$"
   ]
  },
  {
   "cell_type": "code",
   "execution_count": 92,
   "metadata": {},
   "outputs": [
    {
     "data": {
      "text/plain": [
       "5.0004999750025005"
      ]
     },
     "execution_count": 92,
     "metadata": {},
     "output_type": "execute_result"
    }
   ],
   "source": [
    "k_2 = (-laser_1_axis[2] * laser_1_origin[0]) / (laser_1_axis[0] * final_laser_axis[2] - laser_1_axis[2] * final_laser_axis[0])\n",
    "k_2"
   ]
  },
  {
   "cell_type": "code",
   "execution_count": 93,
   "metadata": {},
   "outputs": [
    {
     "data": {
      "text/plain": [
       "array([0.05, 0.05, 5.  ])"
      ]
     },
     "execution_count": 93,
     "metadata": {},
     "output_type": "execute_result"
    }
   ],
   "source": [
    "world_point = k_2 * final_laser_axis\n",
    "world_point"
   ]
  },
  {
   "cell_type": "code",
   "execution_count": 94,
   "metadata": {},
   "outputs": [
    {
     "data": {
      "text/plain": [
       "array([0.05, 0.05, 0.  ])"
      ]
     },
     "execution_count": 94,
     "metadata": {},
     "output_type": "execute_result"
    }
   ],
   "source": [
    "laser_1_origin"
   ]
  },
  {
   "attachments": {},
   "cell_type": "markdown",
   "metadata": {},
   "source": [
    "$$\\begin{bmatrix}\n",
    "\\alpha_x & -v_x\\\\\n",
    "\\alpha_y & -v_y\\\\\n",
    "\\alpha_z & -v_z\n",
    "\\end{bmatrix} \\begin{bmatrix}\n",
    "k_1\\\\\n",
    "k_2\n",
    "\\end{bmatrix} = \\begin{bmatrix}\n",
    "- \\ell_x\\\\\n",
    "- \\ell_y\\\\\n",
    "0\n",
    "\\end{bmatrix}$$\n",
    "\n",
    "$$A^T A = \\begin{bmatrix}\n",
    "\\alpha_x & \\alpha_y & \\alpha_z\\\\\n",
    "-v_x & -v_y & -v_z\n",
    "\\end{bmatrix} \\begin{bmatrix}\n",
    "\\alpha_x & -v_x\\\\\n",
    "\\alpha_y & -v_y\\\\\n",
    "\\alpha_z & -v_z\n",
    "\\end{bmatrix} = \\begin{bmatrix}\n",
    "\\alpha_x^2 + \\alpha_y^2 + \\alpha_z^2 & -\\alpha_x v_x - \\alpha_y v_y - \\alpha_z v_y\\\\\n",
    "-\\alpha_x v_x - \\alpha_y v_y - \\alpha_z v_y & v_x^2 + v_y^2 + v_z^2\n",
    "\\end{bmatrix} = \\begin{bmatrix}\n",
    "||\\alpha||^2 & -\\alpha^T v\\\\\n",
    "-\\alpha^T v & ||v||^2\n",
    "\\end{bmatrix}$$\n",
    "\n",
    "Because $\\alpha$ and $v$ are unit vectors\n",
    "\n",
    "$$A^T A = \\begin{bmatrix}\n",
    "1 & -\\alpha^T v\\\\\n",
    "-\\alpha^T v & 1\n",
    "\\end{bmatrix}$$\n",
    "\n",
    "$$A^T \\ell = \\begin{bmatrix}\n",
    "\\alpha_x & \\alpha_y & \\alpha_z\\\\\n",
    "-v_x & -v_y & -v_z\n",
    "\\end{bmatrix} \\begin{bmatrix}\n",
    "- \\ell_x\\\\\n",
    "- \\ell_y\\\\\n",
    "0\n",
    "\\end{bmatrix} = \\begin{bmatrix}\n",
    "- \\ell_x \\alpha_x + -\\ell_y \\alpha_y\\\\\n",
    "\\ell_x v_x + \\ell_y v_y\n",
    "\\end{bmatrix} = \\begin{bmatrix}\n",
    "-\\alpha^T \\ell\\\\\n",
    "v^T \\ell\n",
    "\\end{bmatrix}$$"
   ]
  },
  {
   "attachments": {},
   "cell_type": "markdown",
   "metadata": {},
   "source": [
    "$$\\begin{bmatrix}\n",
    "1 & -\\alpha^T v & -\\alpha^T \\ell\\\\\n",
    "-\\alpha^T v & 1 & v^T \\ell\n",
    "\\end{bmatrix} \\sim \\begin{bmatrix}\n",
    "1 & - \\alpha^T v & -\\alpha^T \\ell\\\\\n",
    "-1 & \\frac{1}{\\alpha^T v} & \\frac{v^T \\ell}{\\alpha^T v}\n",
    "\\end{bmatrix} \\sim \\begin{bmatrix}\n",
    "1 & - \\alpha^T v & -\\alpha^T \\ell\\\\\n",
    "0 & \\frac{1}{\\alpha^T v} - \\alpha^T v & -\\alpha^T \\ell + \\frac{v^T \\ell}{\\alpha^T v}\n",
    "\\end{bmatrix}$$\n",
    "\n",
    "$$\\sim \\begin{bmatrix}\n",
    "1 & -\\alpha^T v & -\\alpha^T \\ell\\\\\n",
    "0 & \\frac{1}{\\alpha^T v} - \\alpha^T v & -\\alpha^T \\ell + \\frac{v^T \\ell}{\\alpha^T v}\n",
    "\\end{bmatrix} \\sim \\begin{bmatrix}\n",
    "1 & - \\alpha^T v & -\\alpha^T \\ell\\\\\n",
    "0 & 1 & \\left( -\\alpha^T \\ell + \\frac{v^T \\ell}{\\alpha^T v} \\right) \\left( \\frac{1}{\\frac{1}{\\alpha^T v}} - \\alpha^T v \\right)\n",
    "\\end{bmatrix}$$"
   ]
  },
  {
   "attachments": {},
   "cell_type": "markdown",
   "metadata": {},
   "source": [
    "$$k_2 = \\left( -\\alpha \\ell + \\frac{v^T \\ell}{\\alpha^T v} \\right) \\left( \\frac{1}{\\frac{1}{\\alpha^T v} - \\alpha^T v} \\right)$$\n",
    "$$ = \\frac{-\\alpha^T \\ell \\alpha^T v + v^T \\ell}{\\alpha^T v} \\frac{\\alpha^T v}{1 - \\alpha^T v \\alpha^T v}$$\n",
    "$$ = \\frac{-\\alpha^T \\ell \\alpha^T v + v^T \\ell}{1 - (\\alpha^T v)^2}$$"
   ]
  },
  {
   "cell_type": "code",
   "execution_count": 95,
   "metadata": {},
   "outputs": [
    {
     "data": {
      "text/plain": [
       "5.000499975003039"
      ]
     },
     "execution_count": 95,
     "metadata": {},
     "output_type": "execute_result"
    }
   ],
   "source": [
    "\n",
    "k2_ls = ((final_laser_axis.T @ laser_1_origin) - ((laser_1_axis.T @ laser_1_origin) * (laser_1_axis.T @ final_laser_axis))) / \\\n",
    "                    (1 - (laser_1_axis.T @ final_laser_axis) ** 2)\n",
    "\n",
    "k2_ls"
   ]
  },
  {
   "cell_type": "code",
   "execution_count": 96,
   "metadata": {},
   "outputs": [
    {
     "data": {
      "text/plain": [
       "array([0.05, 0.05, 5.  ])"
      ]
     },
     "execution_count": 96,
     "metadata": {},
     "output_type": "execute_result"
    }
   ],
   "source": [
    "world_point = k2_ls * final_laser_axis\n",
    "world_point"
   ]
  },
  {
   "cell_type": "code",
   "execution_count": 97,
   "metadata": {},
   "outputs": [
    {
     "data": {
      "text/plain": [
       "array([0.05, 0.05, 0.  ])"
      ]
     },
     "execution_count": 97,
     "metadata": {},
     "output_type": "execute_result"
    }
   ],
   "source": [
    "laser_1_origin"
   ]
  },
  {
   "attachments": {},
   "cell_type": "markdown",
   "metadata": {},
   "source": [
    "### Calibration"
   ]
  },
  {
   "cell_type": "code",
   "execution_count": 98,
   "metadata": {},
   "outputs": [],
   "source": [
    "import torch\n",
    "\n",
    "if torch.cuda.is_available():\n",
    "    device = torch.device(\"cuda\")\n",
    "else:\n",
    "    device = torch.device(\"cup\")"
   ]
  },
  {
   "cell_type": "code",
   "execution_count": 99,
   "metadata": {},
   "outputs": [],
   "source": [
    "def dot(A: torch.Tensor, B: torch.Tensor):\n",
    "    return torch.bmm(A.unsqueeze(dim=1), B.unsqueeze(dim=2)).squeeze()"
   ]
  },
  {
   "cell_type": "code",
   "execution_count": 100,
   "metadata": {},
   "outputs": [],
   "source": [
    "sensor_size_px = torch.tensor([4000, 3000], device=device, dtype=torch.float32)\n",
    "pixel_pitch_mm = 0.0015\n",
    "focal_length_mm = 4.5\n",
    "laser_origin = torch.tensor([0.05, 0.05, 0], device=device, dtype=torch.float32)\n",
    "laser_axis = torch.tensor([0, 0, 1], device=device, dtype=torch.float32)"
   ]
  },
  {
   "cell_type": "code",
   "execution_count": 101,
   "metadata": {},
   "outputs": [],
   "source": [
    "plane_normal = torch.tensor([0, 0, 1], device=device, dtype=torch.float32)\n",
    "\n",
    "plane_origins = torch.zeros((49, 3), device=device, dtype=torch.float32)\n",
    "plane_origins[:, 2] = torch.linspace(20, 500, 49, device=device, dtype=torch.float32) / 100"
   ]
  },
  {
   "cell_type": "code",
   "execution_count": 102,
   "metadata": {},
   "outputs": [
    {
     "data": {
      "text/plain": [
       "tensor([[0.0500, 0.0500, 0.2000],\n",
       "        [0.0500, 0.0500, 0.3000],\n",
       "        [0.0500, 0.0500, 0.4000],\n",
       "        [0.0500, 0.0500, 0.5000],\n",
       "        [0.0500, 0.0500, 0.6000],\n",
       "        [0.0500, 0.0500, 0.7000],\n",
       "        [0.0500, 0.0500, 0.8000],\n",
       "        [0.0500, 0.0500, 0.9000],\n",
       "        [0.0500, 0.0500, 1.0000],\n",
       "        [0.0500, 0.0500, 1.1000],\n",
       "        [0.0500, 0.0500, 1.2000],\n",
       "        [0.0500, 0.0500, 1.3000],\n",
       "        [0.0500, 0.0500, 1.4000],\n",
       "        [0.0500, 0.0500, 1.5000],\n",
       "        [0.0500, 0.0500, 1.6000],\n",
       "        [0.0500, 0.0500, 1.7000],\n",
       "        [0.0500, 0.0500, 1.8000],\n",
       "        [0.0500, 0.0500, 1.9000],\n",
       "        [0.0500, 0.0500, 2.0000],\n",
       "        [0.0500, 0.0500, 2.1000],\n",
       "        [0.0500, 0.0500, 2.2000],\n",
       "        [0.0500, 0.0500, 2.3000],\n",
       "        [0.0500, 0.0500, 2.4000],\n",
       "        [0.0500, 0.0500, 2.5000],\n",
       "        [0.0500, 0.0500, 2.6000],\n",
       "        [0.0500, 0.0500, 2.7000],\n",
       "        [0.0500, 0.0500, 2.8000],\n",
       "        [0.0500, 0.0500, 2.9000],\n",
       "        [0.0500, 0.0500, 3.0000],\n",
       "        [0.0500, 0.0500, 3.1000],\n",
       "        [0.0500, 0.0500, 3.2000],\n",
       "        [0.0500, 0.0500, 3.3000],\n",
       "        [0.0500, 0.0500, 3.4000],\n",
       "        [0.0500, 0.0500, 3.5000],\n",
       "        [0.0500, 0.0500, 3.6000],\n",
       "        [0.0500, 0.0500, 3.7000],\n",
       "        [0.0500, 0.0500, 3.8000],\n",
       "        [0.0500, 0.0500, 3.9000],\n",
       "        [0.0500, 0.0500, 4.0000],\n",
       "        [0.0500, 0.0500, 4.1000],\n",
       "        [0.0500, 0.0500, 4.2000],\n",
       "        [0.0500, 0.0500, 4.3000],\n",
       "        [0.0500, 0.0500, 4.4000],\n",
       "        [0.0500, 0.0500, 4.5000],\n",
       "        [0.0500, 0.0500, 4.6000],\n",
       "        [0.0500, 0.0500, 4.7000],\n",
       "        [0.0500, 0.0500, 4.8000],\n",
       "        [0.0500, 0.0500, 4.9000],\n",
       "        [0.0500, 0.0500, 5.0000]], device='cuda:0')"
      ]
     },
     "execution_count": 102,
     "metadata": {},
     "output_type": "execute_result"
    }
   ],
   "source": [
    "laser_scalars = dot((plane_origins - laser_origin.repeat((49, 1))), plane_normal.repeat((49, 1))) / torch.dot(laser_axis, plane_normal)\n",
    "laser_dots = laser_origin.repeat((49, 1)) + laser_axis.repeat((49, 1)) * laser_scalars.unsqueeze(dim=1)\n",
    "laser_dots"
   ]
  },
  {
   "cell_type": "code",
   "execution_count": 103,
   "metadata": {},
   "outputs": [
    {
     "data": {
      "text/plain": [
       "tensor([[-750.0000, -750.0000],\n",
       "        [-500.0000, -500.0000],\n",
       "        [-375.0000, -375.0000],\n",
       "        [-300.0000, -300.0000],\n",
       "        [-250.0000, -250.0000],\n",
       "        [-214.2857, -214.2857],\n",
       "        [-187.5000, -187.5000],\n",
       "        [-166.6667, -166.6667],\n",
       "        [-150.0000, -150.0000],\n",
       "        [-136.3636, -136.3636],\n",
       "        [-125.0000, -125.0000],\n",
       "        [-115.3846, -115.3846],\n",
       "        [-107.1429, -107.1429],\n",
       "        [-100.0000, -100.0000],\n",
       "        [ -93.7500,  -93.7500],\n",
       "        [ -88.2353,  -88.2353],\n",
       "        [ -83.3333,  -83.3333],\n",
       "        [ -78.9474,  -78.9474],\n",
       "        [ -75.0000,  -75.0000],\n",
       "        [ -71.4286,  -71.4286],\n",
       "        [ -68.1818,  -68.1818],\n",
       "        [ -65.2174,  -65.2174],\n",
       "        [ -62.5000,  -62.5000],\n",
       "        [ -60.0000,  -60.0000],\n",
       "        [ -57.6923,  -57.6923],\n",
       "        [ -55.5555,  -55.5555],\n",
       "        [ -53.5714,  -53.5714],\n",
       "        [ -51.7241,  -51.7241],\n",
       "        [ -50.0000,  -50.0000],\n",
       "        [ -48.3871,  -48.3871],\n",
       "        [ -46.8750,  -46.8750],\n",
       "        [ -45.4545,  -45.4545],\n",
       "        [ -44.1176,  -44.1176],\n",
       "        [ -42.8571,  -42.8571],\n",
       "        [ -41.6667,  -41.6667],\n",
       "        [ -40.5405,  -40.5405],\n",
       "        [ -39.4737,  -39.4737],\n",
       "        [ -38.4615,  -38.4615],\n",
       "        [ -37.5000,  -37.5000],\n",
       "        [ -36.5854,  -36.5854],\n",
       "        [ -35.7143,  -35.7143],\n",
       "        [ -34.8837,  -34.8837],\n",
       "        [ -34.0909,  -34.0909],\n",
       "        [ -33.3333,  -33.3333],\n",
       "        [ -32.6087,  -32.6087],\n",
       "        [ -31.9149,  -31.9149],\n",
       "        [ -31.2500,  -31.2500],\n",
       "        [ -30.6122,  -30.6122],\n",
       "        [ -30.0000,  -30.0000]], device='cuda:0')"
      ]
     },
     "execution_count": 103,
     "metadata": {},
     "output_type": "execute_result"
    }
   ],
   "source": [
    "laser_projections = -focal_length_mm / 1e3 / laser_dots[:, 2].unsqueeze(dim=1) * laser_dots[:, 0:2] / (pixel_pitch_mm / 1e3) # in pixels\n",
    "laser_projections"
   ]
  },
  {
   "cell_type": "code",
   "execution_count": 104,
   "metadata": {},
   "outputs": [],
   "source": [
    "def image_coordinate_to_projected_point(\n",
    "    image_point: torch.Tensor, pixel_pitch_mm: float, focal_length_mm: float, device: torch.device\n",
    "):\n",
    "    count, _ = image_point.shape\n",
    "\n",
    "    I_project = image_point * pixel_pitch_mm / 1e3\n",
    "    I = torch.zeros((count, 3), device=device)\n",
    "    I[:, :2] = I_project\n",
    "    I[:, 2] = -focal_length_mm / 1e3\n",
    "\n",
    "    return I"
   ]
  },
  {
   "cell_type": "code",
   "execution_count": 108,
   "metadata": {},
   "outputs": [],
   "source": [
    "def laser2world(coord: torch.Tensor, laser_origin: torch.Tensor, laser_axis: torch.Tensor):\n",
    "    count, _ = coord.shape\n",
    "\n",
    "    laser_axises: torch.Tensor = laser_axis.repeat((count, 1))\n",
    "    laser_origins = laser_origin.repeat((count, 1))\n",
    "\n",
    "    projected_points = image_coordinate_to_projected_point(\n",
    "        coord, pixel_pitch_mm, focal_length_mm, device\n",
    "    )\n",
    "    final_laser_axis = (\n",
    "        -1\n",
    "        * projected_points\n",
    "        / torch.linalg.norm(projected_points, axis=1).unsqueeze(dim=1)\n",
    "    )\n",
    "\n",
    "    point_constants = (\n",
    "        dot(final_laser_axis, laser_origins)\n",
    "        - (\n",
    "            dot(laser_axises, laser_origins)\n",
    "            * dot(laser_axises, final_laser_axis)\n",
    "        )\n",
    "    ) / (1 - dot(laser_axises, final_laser_axis) ** 2)\n",
    "\n",
    "    return point_constants.unsqueeze(dim=1) * final_laser_axis"
   ]
  },
  {
   "cell_type": "code",
   "execution_count": 156,
   "metadata": {},
   "outputs": [
    {
     "name": "stdout",
     "output_type": "stream",
     "text": [
      "Error: 1.5792639255523682, Origin: [[0.08180892 0.0372045  0.9466525 ]], Axis: [[0.26190114 0.01231116 0.13043831]]\n",
      "Error: 1.5683594942092896, Origin: [[0.07154489 0.04679319 0.95654243]], Axis: [[0.2718864  0.02335639 0.14049424]]\n",
      "Error: 1.55782949924469, Origin: [[0.06059732 0.05470376 0.96612114]], Axis: [[0.2818275  0.0364664  0.15068997]]\n",
      "Error: 1.5476595163345337, Origin: [[0.04904961 0.0596094  0.97537935]], Axis: [[0.29171875 0.05060035 0.16100124]]\n",
      "Error: 1.5377986431121826, Origin: [[0.03699707 0.05941441 0.98431766]], Axis: [[0.30155867 0.0651528  0.17140733]]\n",
      "Error: 1.5281568765640259, Origin: [[0.02452272 0.05176767 0.99293613]], Axis: [[0.31134886 0.07984657 0.18189958]]\n",
      "Error: 1.5186277627944946, Origin: [[0.01169723 0.0370548  1.0012311 ]], Axis: [[0.32109332 0.09456218 0.19248068]]\n",
      "Error: 1.509154200553894, Origin: [[-0.00142033  0.01876608  1.0091882 ]], Axis: [[0.33079746 0.10922711 0.20315765]]\n",
      "Error: 1.4997292757034302, Origin: [[-1.4780693e-02 -4.8270272e-04  1.0167823e+00]], Axis: [[0.34046766 0.12378126 0.21393538]]\n",
      "Error: 1.4903582334518433, Origin: [[-0.02834241 -0.01970622  1.0239822 ]], Axis: [[0.3501111  0.13818404 0.22481659]]\n",
      "Error: 1.4810497760772705, Origin: [[-0.04207046 -0.03862723  1.0307509 ]], Axis: [[0.35973528 0.15241484 0.23580353]]\n",
      "Error: 1.4718157052993774, Origin: [[-0.05593543 -0.05719323  1.037046  ]], Axis: [[0.3693481  0.16646737 0.24689831]]\n",
      "Error: 1.462671160697937, Origin: [[-0.06991257 -0.0754175   1.0428187 ]], Axis: [[0.37895638 0.18034396 0.2581031 ]]\n",
      "Error: 1.4536350965499878, Origin: [[-0.08398113 -0.09333012  1.0480133 ]], Axis: [[0.3885686  0.19405182 0.26942015]]\n",
      "Error: 1.4447318315505981, Origin: [[-0.09812403 -0.11096293  1.0525658 ]], Axis: [[0.39819136 0.20760079 0.28085148]]\n",
      "Error: 1.4359911680221558, Origin: [[-0.11232711 -0.12834516  1.0564033 ]], Axis: [[0.40783143 0.22100222 0.29239902]]\n",
      "Error: 1.4274486303329468, Origin: [[-0.12657876 -0.1455026   1.059443  ]], Axis: [[0.41749507 0.23426771 0.30406484]]\n",
      "Error: 1.4191439151763916, Origin: [[-0.14086962 -0.1624577   1.0615934 ]], Axis: [[0.4271883  0.24740887 0.3158505 ]]\n",
      "Error: 1.4111199378967285, Origin: [[-0.15519238 -0.17923033  1.0627546 ]], Axis: [[0.4369168  0.26043704 0.32775804]]\n",
      "Error: 1.4034192562103271, Origin: [[-0.16954137 -0.19583799  1.0628211 ]], Axis: [[0.4466859  0.27336344 0.3397894 ]]\n",
      "Error: 1.3960782289505005, Origin: [[-0.18391235 -0.21229644  1.0616877 ]], Axis: [[0.45650065 0.28619844 0.35194662]]\n",
      "Error: 1.3891218900680542, Origin: [[-0.19830236 -0.22861992  1.0592533 ]], Axis: [[0.4663657  0.29895213 0.36423215]]\n",
      "Error: 1.3825533390045166, Origin: [[-0.2127093  -0.24482132  1.0554317 ]], Axis: [[0.47628555 0.31163436 0.37664852]]\n",
      "Error: 1.3763442039489746, Origin: [[-0.22713178 -0.2609122   1.0501614 ]], Axis: [[0.48626435 0.32425392 0.3891983 ]]\n",
      "Error: 1.3704283237457275, Origin: [[-0.24156857 -0.27690285  1.0434113 ]], Axis: [[0.49630585 0.33681935 0.4018843 ]]\n",
      "Error: 1.3646951913833618, Origin: [[-0.2560181 -0.292802   1.0351882]], Axis: [[0.50641346 0.3493384  0.414709  ]]\n",
      "Error: 1.3589931726455688, Origin: [[-0.27047855 -0.3086167   1.0255338 ]], Axis: [[0.51658994 0.3618176  0.42767456]]\n",
      "Error: 1.3531348705291748, Origin: [[-0.28494683 -0.32435203  1.0145191 ]], Axis: [[0.52683735 0.37426266 0.4407824 ]]\n",
      "Error: 1.3469045162200928, Origin: [[-0.29941884 -0.34001103  1.002239  ]], Axis: [[0.5371567  0.38667777 0.45403263]]\n",
      "Error: 1.3400765657424927, Origin: [[-0.31388855 -0.35559437  0.9887942 ]], Axis: [[0.5475479  0.39906538 0.46742377]]\n",
      "Error: 1.3324129581451416, Origin: [[-0.3283483  -0.3711005   0.97429734]], Axis: [[0.55800885 0.4114256  0.48095217]]\n",
      "Error: 1.323683500289917, Origin: [[-0.34278834 -0.3865251   0.958858  ]], Axis: [[0.5685356  0.42375594 0.494611  ]]\n",
      "Error: 1.3136699199676514, Origin: [[-0.35719624 -0.40186107  0.94258505]], Axis: [[0.5791212 0.4360506 0.5083898]]\n",
      "Error: 1.3021823167800903, Origin: [[-0.3715567 -0.4170978  0.9255841]], Axis: [[0.58975464 0.44829905 0.5222727 ]]\n",
      "Error: 1.2890762090682983, Origin: [[-0.38585043 -0.4322207   0.90795714]], Axis: [[0.60042024 0.46048495 0.53623736]]\n",
      "Error: 1.27428138256073, Origin: [[-0.4000534  -0.44721     0.88980246]], Axis: [[0.61109436 0.47258368 0.5502514 ]]\n",
      "Error: 1.2578445672988892, Origin: [[-0.41413516 -0.4620395   0.87121165]], Axis: [[0.6217441  0.48455876 0.56426895]]\n",
      "Error: 1.2399890422821045, Origin: [[-0.42805654 -0.47667477  0.8522709 ]], Axis: [[0.632321  0.4963567 0.5782233]]\n",
      "Error: 1.22916579246521, Origin: [[-0.4417544  -0.49104935  0.8332347 ]], Axis: [[0.6363405 0.5016173 0.5882915]]\n",
      "Error: 1.2271307706832886, Origin: [[-0.4550682 -0.5049357  0.8157007]], Axis: [[0.6318114 0.4985301 0.5937766]]\n",
      "Error: 1.2225474119186401, Origin: [[-0.4680182 -0.5183641  0.7994495]], Axis: [[0.6277461  0.49599004 0.6001224 ]]\n",
      "Error: 1.2167117595672607, Origin: [[-0.4806675  -0.53142685  0.7839462 ]], Axis: [[0.6234174  0.4932708  0.60688204]]\n",
      "Error: 1.2096275091171265, Origin: [[-0.4930611  -0.5441862   0.76892865]], Axis: [[0.6188975  0.49044314 0.61410606]]\n",
      "Error: 1.2010952234268188, Origin: [[-0.50523525 -0.5566927   0.75419474]], Axis: [[0.6143649 0.4876844 0.6218937]]\n",
      "Error: 1.1912004947662354, Origin: [[-0.5172177  -0.568985    0.73959017]], Axis: [[0.60979855 0.48496673 0.6302107 ]]\n",
      "Error: 1.1800583600997925, Origin: [[-0.52902645 -0.5810901   0.7250053 ]], Axis: [[0.60516506 0.48224494 0.63900363]]\n",
      "Error: 1.167837142944336, Origin: [[-0.5406717 -0.5930246  0.7103669]], Axis: [[0.60041547 0.4794512  0.648198  ]]\n",
      "Error: 1.1547762155532837, Origin: [[-0.5521564  -0.60479647  0.69563097]], Axis: [[0.59548146 0.47648934 0.65769637]]\n",
      "Error: 1.1411844491958618, Origin: [[-0.56347775 -0.61640626  0.6807824 ]], Axis: [[0.5902745  0.47323233 0.66738105]]\n",
      "Error: 1.1274168491363525, Origin: [[-0.5746297 -0.6278492  0.6658329]], Axis: [[0.58469033 0.4695262  0.6771201 ]]\n",
      "Error: 1.1138187646865845, Origin: [[-0.5856058  -0.6391187   0.65081924]], Axis: [[0.57861865 0.46520358 0.68678   ]]\n",
      "Error: 1.1006473302841187, Origin: [[-0.5964037 -0.6502099  0.6357984]], Axis: [[0.57196355 0.46011162 0.69624573]]\n",
      "Error: 1.0880024433135986, Origin: [[-0.60702837 -0.661124    0.6208363 ]], Axis: [[0.5646682  0.454147   0.70544314]]\n",
      "Error: 1.0758056640625, Origin: [[-0.6174925  -0.67186856  0.6059999 ]], Axis: [[0.55672926 0.44728354 0.7143545 ]]\n",
      "Error: 1.0638470649719238, Origin: [[-0.62781495 -0.6824571   0.5913412 ]], Axis: [[0.54819673 0.43957528 0.72301596]]\n",
      "Error: 1.051863431930542, Origin: [[-0.6380165  -0.69290555  0.5768912 ]], Axis: [[0.5391541 0.4311307 0.7314997]]\n",
      "Error: 1.0396108627319336, Origin: [[-0.648115   -0.70322853  0.5626576 ]], Axis: [[0.52969015 0.42207238 0.739886  ]]\n",
      "Error: 1.026898980140686, Origin: [[-0.65812314 -0.7134365   0.54863024]], Axis: [[0.51988    0.41250622 0.7482435 ]]\n",
      "Error: 1.0121008157730103, Origin: [[-0.66796154 -0.72346956  0.5346329 ]], Axis: [[0.5119494  0.40478787 0.75770724]]\n",
      "Error: 0.9986246228218079, Origin: [[-0.6774898 -0.7332191  0.5204642]], Axis: [[0.5045831  0.39711708 0.7666448 ]]\n",
      "Error: 0.9867265820503235, Origin: [[-0.6866919  -0.74267435  0.50619847]], Axis: [[0.49784446 0.38948697 0.7748974 ]]\n",
      "Error: 0.9763962030410767, Origin: [[-0.6955621 -0.7518335  0.491913 ]], Axis: [[0.49183023 0.38192615 0.7824444 ]]\n",
      "Error: 0.9675078988075256, Origin: [[-0.70409983 -0.760703    0.47767028]], Axis: [[0.48659867 0.37438542 0.7893383 ]]\n",
      "Error: 0.9597235321998596, Origin: [[-0.7123078 -0.7692923  0.4635186]], Axis: [[0.482091   0.36662856 0.79561955]]\n",
      "Error: 0.9501452445983887, Origin: [[-0.72032857 -0.777717    0.44960368]], Axis: [[0.47680017 0.35732812 0.8008091 ]]\n",
      "Error: 0.9389048218727112, Origin: [[-0.7284152  -0.7861671   0.43608737]], Axis: [[0.47077134 0.34719253 0.8062383 ]]\n",
      "Error: 0.9261549115180969, Origin: [[-0.7365569  -0.79463536  0.4228845 ]], Axis: [[0.46405897 0.3363814  0.81209946]]\n",
      "Error: 0.9118112325668335, Origin: [[-0.74472165 -0.8031019   0.40991604]], Axis: [[0.45660475 0.3249134  0.8184061 ]]\n",
      "Error: 0.8957836031913757, Origin: [[-0.7528748 -0.8115451  0.3971191]], Axis: [[0.44835722 0.31281972 0.8251636 ]]\n",
      "Error: 0.8779897689819336, Origin: [[-0.7609729  -0.8199413   0.38444173]], Axis: [[0.43927822 0.30014434 0.8323648 ]]\n",
      "Error: 0.8583745360374451, Origin: [[-0.7689661  -0.82826394  0.3718408 ]], Axis: [[0.42935216 0.28694445 0.8399854 ]]\n",
      "Error: 0.8369378447532654, Origin: [[-0.776795   -0.83648247  0.35928094]], Axis: [[0.4185967  0.27329266 0.84797823]]\n",
      "Error: 0.8137750625610352, Origin: [[-0.7843904  -0.8445607   0.34673384]], Axis: [[0.40707296 0.25927946 0.8562662 ]]\n",
      "Error: 0.7891271710395813, Origin: [[-0.7916744  -0.85245764  0.3341803 ]], Axis: [[0.39489475 0.24501735 0.86473596]]\n",
      "Error: 0.7634232640266418, Origin: [[-0.7985662 -0.8601282  0.3216121]], Axis: [[0.382232   0.23064478 0.8732331 ]]\n",
      "Error: 0.737293541431427, Origin: [[-0.8049964  -0.867528    0.30903575]], Axis: [[0.36930442 0.2163257  0.8815685 ]]\n",
      "Error: 0.7114985585212708, Origin: [[-0.81092817 -0.8746214   0.29647458]], Axis: [[0.35635927 0.20223857 0.8895415 ]]\n",
      "Error: 0.6867619156837463, Origin: [[-0.81638175 -0.88139194  0.28396887]], Axis: [[0.34362885 0.18854846 0.8969869 ]]\n",
      "Error: 0.6635689735412598, Origin: [[-0.8214439  -0.8878471   0.27156678]], Axis: [[0.33127823 0.17536792 0.90382427]]\n",
      "Error: 0.6420681476593018, Origin: [[-0.8262482  -0.8940114   0.25931245]], Axis: [[0.31937206 0.16273145 0.91007537]]\n",
      "Error: 0.6221252679824829, Origin: [[-0.83093846 -0.8999097   0.24723552]], Axis: [[0.30788034 0.15059969 0.91583234]]\n",
      "Error: 0.6034627556800842, Origin: [[-0.83563673 -0.9055532   0.2353482 ]], Axis: [[0.2967155  0.13888852 0.9212105 ]]\n",
      "Error: 0.5857840180397034, Origin: [[-0.84043187 -0.9109299   0.223649  ]], Axis: [[0.28577325 0.12750278 0.9263141 ]]\n",
      "Error: 0.5688454508781433, Origin: [[-0.8453813  -0.91600066  0.21212797]], Axis: [[0.27496257 0.11636005 0.93122274]]\n",
      "Error: 0.5525023937225342, Origin: [[-0.8505194  -0.92069775  0.20077151]], Axis: [[0.26422417 0.10540576 0.9359867 ]]\n",
      "Error: 0.5367343425750732, Origin: [[-0.8558686  -0.9249203   0.18956593]], Axis: [[0.25354448 0.09462389 0.94062644]]\n",
      "Error: 0.5216736793518066, Origin: [[-0.861451   -0.92852825  0.17849958]], Axis: [[0.24296835 0.08404698 0.94513154]]\n",
      "Error: 0.5076238512992859, Origin: [[-0.8673021 -0.9313344  0.1675641]], Axis: [[0.23261221 0.07376668 0.9494593 ]]\n",
      "Error: 0.4950452446937561, Origin: [[-0.87348175 -0.9330968   0.15675479]], Axis: [[0.22267707 0.06394146 0.9535344 ]]\n",
      "Error: 0.4844643175601959, Origin: [[-0.8800774  -0.9335211   0.14606966]], Axis: [[0.21345198 0.054793   0.95725334]]\n",
      "Error: 0.4762707054615021, Origin: [[-0.88719064 -0.9322906   0.1355065 ]], Axis: [[0.20529342 0.04657465 0.960499  ]]\n",
      "Error: 0.4704545736312866, Origin: [[-0.8949004  -0.92914253  0.1250586 ]], Axis: [[0.19855987 0.0394955  0.9631706 ]]\n",
      "Error: 0.4664897322654724, Origin: [[-0.9032139  -0.92397994  0.11471156]], Axis: [[0.19349842 0.03360924 0.9652271 ]]\n",
      "Error: 0.46355628967285156, Origin: [[-0.9120481  -0.9169437   0.10444312]], Axis: [[0.19014129 0.02873695 0.9667154 ]]\n",
      "Error: 0.46093514561653137, Origin: [[-0.9212606  -0.9083638   0.09422781]], Axis: [[0.18830188 0.0245028  0.9677583 ]]\n",
      "Error: 0.4581986963748932, Origin: [[-0.9307108  -0.89861864  0.08404315]], Axis: [[0.18768264 0.02046444 0.9685047 ]]\n",
      "Error: 0.4551398754119873, Origin: [[-0.9402975  -0.8880165   0.07387257]], Axis: [[0.18800049 0.01623208 0.9690838 ]]\n",
      "Error: 0.451647013425827, Origin: [[-0.94996315 -0.8767615   0.0637053 ]], Axis: [[0.1890483  0.01151345 0.96958655]]\n",
      "Error: 0.4476245641708374, Origin: [[-0.9596805  -0.86497474  0.05353444]], Axis: [[0.19069503 0.00610501 0.9700695 ]]\n",
      "Error: 0.44297483563423157, Origin: [[-0.9694349  -0.8527288   0.04335556]], Axis: [[ 1.9285901e-01 -1.3155115e-04  9.7056532e-01]]\n",
      "Error: 0.4376007914543152, Origin: [[-0.97921234 -0.8400776   0.03316534]], Axis: [[ 0.1954805  -0.00728604  0.97109234]]\n",
      "Error: 0.4314166307449341, Origin: [[-0.98899317 -0.82707405  0.02296118]], Axis: [[ 0.19850142 -0.01540597  0.97166044]]\n",
      "Error: 0.42435944080352783, Origin: [[-0.99874896 -0.8137795   0.012741  ]], Axis: [[ 0.20185368 -0.02449639  0.9722739 ]]\n",
      "Error: 0.41640567779541016, Origin: [[-1.0084383  -0.8002651   0.00250339]], Axis: [[ 0.20545463 -0.03451759  0.972933  ]]\n",
      "Error: 0.40704867243766785, Origin: [[-1.0179876e+00 -7.8664345e-01 -1.9934189e-06]], Axis: [[ 0.20913756 -0.04540905  0.97358906]]\n",
      "Error: 0.39682820439338684, Origin: [[-1.0272970e+00 -7.7304840e-01 -3.0384523e-05]], Axis: [[ 0.21270551 -0.05705338  0.9743068 ]]\n",
      "Error: 0.38694554567337036, Origin: [[-1.0373727e+00 -7.5918818e-01 -2.7876954e-06]], Axis: [[ 0.21540278 -0.06641025  0.97457695]]\n",
      "Error: 0.378900408744812, Origin: [[-1.0485672e+00 -7.4562705e-01  1.1817319e-06]], Axis: [[ 0.21509387 -0.07136817  0.9748404 ]]\n",
      "Error: 0.3707229495048523, Origin: [[-1.0589843e+00 -7.3266655e-01 -1.8150910e-06]], Axis: [[ 0.21405336 -0.07716676  0.97541153]]\n",
      "Error: 0.36237841844558716, Origin: [[-1.0688580e+00 -7.1993887e-01  2.4900557e-05]], Axis: [[ 0.21306008 -0.08349605  0.9760446 ]]\n",
      "Error: 0.35386326909065247, Origin: [[-1.0782815e+00 -7.0735329e-01 -2.6666642e-06]], Axis: [[ 0.21224983 -0.09025551  0.9766885 ]]\n",
      "Error: 0.34518009424209595, Origin: [[-1.0873044e+00 -6.9488400e-01  2.4041437e-06]], Axis: [[ 0.21160844 -0.09738858  0.9773339 ]]\n",
      "Error: 0.3363490402698517, Origin: [[-1.0959586e+00 -6.8252212e-01 -2.2294218e-05]], Axis: [[ 0.21109514 -0.10484307  0.97797626]]\n",
      "Error: 0.3273973762989044, Origin: [[-1.1042668e+00 -6.7026430e-01  1.8050956e-05]], Axis: [[ 0.21067066 -0.11256406  0.9786134 ]]\n",
      "Error: 0.31836897134780884, Origin: [[-1.1122451e+00 -6.5811032e-01 -1.3849004e-05]], Axis: [[ 0.21030155 -0.12049515  0.97924256]]\n",
      "Error: 0.3092999756336212, Origin: [[-1.1199044e+00 -6.4606303e-01  1.8728007e-05]], Axis: [[ 0.2099603  -0.12858021  0.9798609 ]]\n",
      "Error: 0.30024096369743347, Origin: [[-1.1272528e+00 -6.3412642e-01 -3.0731415e-05]], Axis: [[ 0.20962444 -0.13676511  0.9804656 ]]\n",
      "Error: 0.29123246669769287, Origin: [[-1.1342953e+00 -6.2230539e-01  7.5860648e-06]], Axis: [[ 0.2092758  -0.1449992   0.98105234]]\n",
      "Error: 0.28231939673423767, Origin: [[-1.1410364e+00 -6.1060476e-01 -6.1628480e-06]], Axis: [[ 0.20890087 -0.15323588  0.9816216 ]]\n",
      "Error: 0.2735394239425659, Origin: [[-1.1474773e+00 -5.9902894e-01  1.4015504e-05]], Axis: [[ 0.20848787 -0.16143343  0.9821693 ]]\n",
      "Error: 0.2649296224117279, Origin: [[-1.1536201e+00 -5.8758181e-01  1.7736189e-05]], Axis: [[ 0.20802842 -0.16955486  0.9826947 ]]\n",
      "Error: 0.25651657581329346, Origin: [[-1.1594669e+00 -5.7626641e-01 -5.8419064e-06]], Axis: [[ 0.20751604 -0.17756785  0.983198  ]]\n",
      "Error: 0.24832627177238464, Origin: [[-1.1650162e+00 -5.6508464e-01 -3.8809139e-05]], Axis: [[ 0.2069454  -0.18544452  0.983678  ]]\n",
      "Error: 0.2403765469789505, Origin: [[-1.1702695e+00 -5.5403733e-01  9.5235891e-06]], Axis: [[ 0.20631272 -0.193161    0.9841344 ]]\n",
      "Error: 0.23268499970436096, Origin: [[-1.1752256e+00 -5.4312390e-01 -6.3298685e-06]], Axis: [[ 0.20561492 -0.20069702  0.9845682 ]]\n",
      "Error: 0.22525976598262787, Origin: [[-1.1798837e+00 -5.3234321e-01 -1.9063062e-05]], Axis: [[ 0.20484994 -0.2080355   0.98497987]]\n",
      "Error: 0.21810714900493622, Origin: [[-1.1842420e+00 -5.2169293e-01  3.0036412e-05]], Axis: [[ 0.20401603 -0.21516182  0.98536986]]\n",
      "Error: 0.21123214066028595, Origin: [[-1.1882995e+00 -5.1117009e-01  2.5623403e-05]], Axis: [[ 0.20311183 -0.22206384  0.9857397 ]]\n",
      "Error: 0.20463413000106812, Origin: [[-1.1920525e+00 -5.0077075e-01 -3.4127595e-06]], Axis: [[ 0.20213656 -0.22873102  0.98609036]]\n",
      "Error: 0.19831204414367676, Origin: [[-1.1954976e+00 -4.9049070e-01 -1.8382118e-05]], Axis: [[ 0.20108955 -0.23515472  0.9864222 ]]\n",
      "Error: 0.19225874543190002, Origin: [[-1.1986302e+00 -4.8032489e-01  6.8405348e-07]], Axis: [[ 0.19997062 -0.24132721  0.9867369 ]]\n",
      "Error: 0.1864718496799469, Origin: [[-1.2014446e+00 -4.7026831e-01  9.9046956e-06]], Axis: [[ 0.19877969 -0.24724199  0.98703533]]\n",
      "Error: 0.18093688786029816, Origin: [[-1.2039340e+00 -4.6031547e-01  1.5469370e-05]], Axis: [[ 0.19751854 -0.25289318  0.98732525]]\n",
      "Error: 0.175664022564888, Origin: [[-1.2060906e+00 -4.5046130e-01 -1.6643995e-05]], Axis: [[ 0.19618505 -0.2582758   0.9875894 ]]\n",
      "Error: 0.17062975466251373, Origin: [[-1.2079042e+00 -4.4069952e-01 -3.2500415e-05]], Axis: [[ 0.19478135 -0.26338536  0.9878444 ]]\n",
      "Error: 0.16583916544914246, Origin: [[-1.2093642e+00 -4.3102458e-01 -9.5504765e-06]], Axis: [[ 0.19330367 -0.2682181   0.9880781 ]]\n",
      "Error: 0.16124077141284943, Origin: [[-1.21045911e+00 -4.21430320e-01  1.39576605e-05]], Axis: [[ 0.19176482 -0.27276963  0.98832667]]\n",
      "Error: 0.1568685621023178, Origin: [[-1.2111741e+00 -4.1191059e-01  7.5766361e-06]], Axis: [[ 0.19015588 -0.27703765  0.988556  ]]\n",
      "Error: 0.15270917117595673, Origin: [[-1.2114938e+00 -4.0246013e-01 -1.5425453e-06]], Axis: [[ 0.18847708 -0.28101987  0.98876566]]\n",
      "Error: 0.14874239265918732, Origin: [[-1.2114018e+00 -3.9307263e-01 -2.1190299e-05]], Axis: [[ 0.18673453 -0.2847133   0.98896986]]\n",
      "Error: 0.14493876695632935, Origin: [[-1.2108802e+00 -3.8374263e-01 -5.2980240e-06]], Axis: [[ 0.18493468 -0.28811616  0.9891854 ]]\n",
      "Error: 0.1413303166627884, Origin: [[-1.2099080e+00 -3.7446517e-01 -1.3262623e-05]], Axis: [[ 0.18306662 -0.2912288   0.9893714 ]]\n",
      "Error: 0.13787081837654114, Origin: [[-1.2084668e+00 -3.6523339e-01 -5.3339800e-06]], Axis: [[ 0.18114609 -0.2940491   0.98956615]]\n",
      "Error: 0.13457344472408295, Origin: [[-1.2065331e+00 -3.5604331e-01  3.1789506e-05]], Axis: [[ 0.17916389 -0.2965794   0.98974603]]\n",
      "Error: 0.13141584396362305, Origin: [[-1.2040876e+00 -3.4688887e-01 -1.9864037e-05]], Axis: [[ 0.17713068 -0.29881993  0.98992616]]\n",
      "Error: 0.12838880717754364, Origin: [[-1.2011088e+00 -3.3776557e-01 -6.1467554e-06]], Axis: [[ 0.17504555 -0.3007736   0.99010295]]\n",
      "Error: 0.1254836916923523, Origin: [[-1.1975771e+00 -3.2866856e-01  6.8601194e-06]], Axis: [[ 0.17291349 -0.30244392  0.9902778 ]]\n",
      "Error: 0.12269027531147003, Origin: [[-1.1934761e+00 -3.1959337e-01 -1.4285064e-06]], Axis: [[ 0.17073438 -0.30383584  0.9904509 ]]\n",
      "Error: 0.11999030411243439, Origin: [[-1.1887913e+00 -3.1053469e-01 -4.9783744e-06]], Axis: [[ 0.16851658 -0.3049538   0.99063283]]\n",
      "Error: 0.11739780008792877, Origin: [[-1.1835103e+00 -3.0149084e-01  1.5464946e-05]], Axis: [[ 0.16625385 -0.30580926  0.99079615]]\n",
      "Error: 0.11488401889801025, Origin: [[-1.1776317e+00 -2.9245511e-01  8.8754496e-06]], Axis: [[ 0.16395389 -0.30640498  0.990966  ]]\n",
      "Error: 0.11244457215070724, Origin: [[-1.1711549e+00 -2.8342697e-01  2.2658858e-06]], Axis: [[ 0.16162261 -0.3067551   0.9911351 ]]\n",
      "Error: 0.11007559299468994, Origin: [[-1.1640896e+00 -2.7440092e-01 -2.4913388e-05]], Axis: [[ 0.15925209 -0.3068662   0.9913017 ]]\n",
      "Error: 0.10776109993457794, Origin: [[-1.1564515e+00 -2.6537573e-01  7.7755631e-06]], Axis: [[ 0.15685235 -0.30675176  0.9914705 ]]\n",
      "Error: 0.10549785941839218, Origin: [[-1.1482638e+00 -2.5634894e-01 -3.2743705e-05]], Axis: [[ 0.15443207 -0.3064232   0.99164116]]\n",
      "Error: 0.1032806783914566, Origin: [[-1.1395528e+00 -2.4732396e-01  2.7883960e-05]], Axis: [[ 0.15196642 -0.30590254  0.9918086 ]]\n",
      "Error: 0.10110187530517578, Origin: [[-1.1303579e+00 -2.3828939e-01 -3.5519213e-05]], Axis: [[ 0.14947662 -0.30518183  0.99198407]]\n",
      "Error: 0.09896466135978699, Origin: [[-1.1207157e+00 -2.2925273e-01 -1.4423494e-05]], Axis: [[ 0.14695773 -0.30429202  0.9921458 ]]\n",
      "Error: 0.09685608744621277, Origin: [[-1.1106720e+00 -2.2020848e-01  1.9922898e-06]], Axis: [[ 0.14440943 -0.30323407  0.9923124 ]]\n",
      "Error: 0.09477445483207703, Origin: [[-1.1002685e+00 -2.1115923e-01 -2.1528518e-05]], Axis: [[ 0.1418368  -0.30202606  0.9924792 ]]\n",
      "Error: 0.09273193031549454, Origin: [[-1.0895480e+00 -2.0210651e-01 -3.5102958e-06]], Axis: [[ 0.13922337 -0.30068165  0.99263537]]\n",
      "Error: 0.09068059921264648, Origin: [[-1.0785569e+00 -1.9305040e-01  7.3920960e-06]], Axis: [[ 0.13660075 -0.2992091   0.9928107 ]]\n",
      "Error: 0.08866190165281296, Origin: [[-1.0673325e+00 -1.8399285e-01  1.3388979e-05]], Axis: [[ 0.13394839 -0.2976212   0.9929772 ]]\n",
      "Error: 0.08666479587554932, Origin: [[-1.0559149e+00 -1.7493436e-01 -1.8920920e-05]], Axis: [[ 0.1312675  -0.295924    0.99314106]]\n",
      "Error: 0.084681935608387, Origin: [[-1.0443377e+00 -1.6587657e-01  1.1804363e-05]], Axis: [[ 0.12856703 -0.29412648  0.99330544]]\n",
      "Error: 0.08272986114025116, Origin: [[-1.0326304e+00 -1.5682395e-01  3.9416373e-06]], Axis: [[ 0.12582827 -0.2922425   0.9934549 ]]\n",
      "Error: 0.08078019320964813, Origin: [[-1.0208235e+00 -1.4777704e-01  8.0221622e-07]], Axis: [[ 0.1230746 -0.2902734  0.9936156]]\n",
      "Error: 0.07884769886732101, Origin: [[-1.0089396e+00 -1.3873790e-01  5.3743847e-06]], Axis: [[ 0.12030452 -0.28822398  0.9937749 ]]\n",
      "Error: 0.07693985849618912, Origin: [[-9.9699903e-01 -1.2970975e-01  3.1202017e-05]], Axis: [[ 0.11750124 -0.28610164  0.9939239 ]]\n",
      "Error: 0.07504279166460037, Origin: [[-9.85021472e-01 -1.20693214e-01  2.84182279e-05]], Axis: [[ 0.11467996 -0.28390658  0.9940795 ]]\n",
      "Error: 0.0731666088104248, Origin: [[-9.7302198e-01 -1.1169101e-01 -1.8106175e-06]], Axis: [[ 0.11183939 -0.28164464  0.9942287 ]]\n",
      "Error: 0.07130896300077438, Origin: [[-9.610136e-01 -1.027051e-01  6.187357e-06]], Axis: [[ 0.10898118 -0.2793172   0.99437505]]\n",
      "Error: 0.06946990638971329, Origin: [[-9.4900787e-01 -9.3741372e-02 -7.0230618e-07]], Axis: [[ 0.10610814 -0.2769371   0.99451715]]\n",
      "Error: 0.06764882802963257, Origin: [[-9.370149e-01 -8.479732e-02  2.691426e-05]], Axis: [[ 0.10322273 -0.27448955  0.9946598 ]]\n",
      "Error: 0.06584776937961578, Origin: [[-9.2504191e-01 -7.5879321e-02  1.3864655e-05]], Axis: [[ 0.10030714 -0.27198812  0.9948002 ]]\n",
      "Error: 0.06406719982624054, Origin: [[-9.1309625e-01 -6.6988617e-02  8.4863168e-06]], Axis: [[ 0.09739539 -0.26943594  0.9949369 ]]\n",
      "Error: 0.062307823449373245, Origin: [[-9.0118426e-01 -5.8119170e-02  3.0049214e-06]], Axis: [[ 0.09446672 -0.26680738  0.995076  ]]\n",
      "Error: 0.060576386749744415, Origin: [[-8.8930839e-01 -4.9278531e-02 -2.7426946e-05]], Axis: [[ 0.09151465 -0.2641294   0.9952042 ]]\n",
      "Error: 0.05886121839284897, Origin: [[-8.7747365e-01 -4.0466968e-02 -5.5860683e-06]], Axis: [[ 0.0885582  -0.26139605  0.99533516]]\n",
      "Error: 0.057166870683431625, Origin: [[-8.6568409e-01 -3.1685229e-02  1.1886628e-05]], Axis: [[ 0.08560352 -0.258606    0.9954661 ]]\n",
      "Error: 0.055497266352176666, Origin: [[-8.5394073e-01 -2.2940343e-02 -4.8364582e-06]], Axis: [[ 0.08263116 -0.25577262  0.9955907 ]]\n",
      "Error: 0.053851258009672165, Origin: [[-8.4224713e-01 -1.4229767e-02 -8.0702393e-06]], Axis: [[ 0.07965814 -0.25288206  0.99571466]]\n",
      "Error: 0.05223062261939049, Origin: [[-8.3060521e-01 -5.5547412e-03  1.0709603e-05]], Axis: [[ 0.07667799 -0.24993676  0.9958339 ]]\n",
      "Error: 0.05064096674323082, Origin: [[-8.1901616e-01  3.0839173e-03 -1.3564592e-05]], Axis: [[ 0.07369418 -0.24693757  0.9959488 ]]\n",
      "Error: 0.049065250903367996, Origin: [[-8.07481885e-01  1.16831539e-02 -1.36060025e-05]], Axis: [[ 0.07072977 -0.24388982  0.9960657 ]]\n",
      "Error: 0.04750843346118927, Origin: [[-7.9600334e-01  2.0235842e-02 -6.8126496e-06]], Axis: [[ 0.06774531 -0.24079365  0.9961863 ]]\n",
      "Error: 0.045982930809259415, Origin: [[-7.8458118e-01  2.8752847e-02  7.7107306e-06]], Axis: [[ 0.06477313 -0.23763746  0.9963013 ]]\n",
      "Error: 0.04448578879237175, Origin: [[-7.7321595e-01  3.7224155e-02  3.7519133e-06]], Axis: [[ 0.061806   -0.23443592  0.99641   ]]\n",
      "Error: 0.043012749403715134, Origin: [[-7.6190811e-01  4.5655906e-02 -7.7216200e-06]], Axis: [[ 0.05884371 -0.23117612  0.9965189 ]]\n",
      "Error: 0.04156104102730751, Origin: [[-7.5065851e-01  5.4045901e-02 -1.5888276e-05]], Axis: [[ 0.05590144 -0.2278635   0.9966299 ]]\n",
      "Error: 0.04014198109507561, Origin: [[-7.3946768e-01  6.2386546e-02 -3.5059566e-06]], Axis: [[ 0.05295551 -0.22450435  0.99673057]]\n",
      "Error: 0.038742776960134506, Origin: [[-7.283360e-01  7.068036e-02 -9.306971e-06]], Axis: [[ 0.05002507 -0.22109321  0.996836  ]]\n",
      "Error: 0.03737156465649605, Origin: [[-7.172640e-01  7.892791e-02 -1.544127e-06]], Axis: [[ 0.04714071 -0.21763204  0.996937  ]]\n",
      "Error: 0.03603043034672737, Origin: [[-7.0625567e-01  8.7090991e-02 -1.2996101e-06]], Axis: [[ 0.04423379 -0.21412198  0.9970359 ]]\n",
      "Error: 0.03470918536186218, Origin: [[-6.9530314e-01  9.5239446e-02 -9.3693319e-07]], Axis: [[ 0.04135914 -0.21055613  0.9971372 ]]\n",
      "Error: 0.03341497480869293, Origin: [[-6.8441117e-01  1.0333960e-01  1.1662607e-05]], Axis: [[ 0.03850865 -0.20694034  0.99723184]]\n",
      "Error: 0.032147109508514404, Origin: [[-6.7357951e-01  1.1138875e-01 -1.8514562e-05]], Axis: [[ 0.03568476 -0.20327355  0.99732935]]\n",
      "Error: 0.030920524150133133, Origin: [[-6.6280866e-01  1.1938094e-01 -1.2054598e-07]], Axis: [[ 0.03285597 -0.19955106  0.9974109 ]]\n",
      "Error: 0.02969096228480339, Origin: [[-6.5210158e-01  1.2731189e-01  2.8061999e-05]], Axis: [[ 0.03009798 -0.1957805   0.9975088 ]]\n",
      "Error: 0.0284992977976799, Origin: [[-6.4145446e-01  1.3519694e-01  3.3154571e-05]], Axis: [[ 0.02735994 -0.19196922  0.9975974 ]]\n",
      "Error: 0.027334222570061684, Origin: [[-6.3086855e-01  1.4302953e-01 -7.9857737e-06]], Axis: [[ 0.02465852 -0.18811834  0.997683  ]]\n",
      "Error: 0.026198305189609528, Origin: [[-6.2034547e-01  1.5080622e-01 -8.1767139e-06]], Axis: [[ 0.02199357 -0.18421972  0.9977855 ]]\n",
      "Error: 0.025067558512091637, Origin: [[-6.0988784e-01  1.5851504e-01 -2.0157768e-05]], Axis: [[ 0.01935792 -0.18027167  0.99785775]]\n",
      "Error: 0.023968137800693512, Origin: [[-5.9949297e-01  1.6617617e-01  8.4146905e-06]], Axis: [[ 0.01677332 -0.17629975  0.9979424 ]]\n",
      "Error: 0.022899692878127098, Origin: [[-5.8916336e-01  1.7378013e-01  1.7355198e-05]], Axis: [[ 0.01423997 -0.17230058  0.9980327 ]]\n",
      "Error: 0.021837471053004265, Origin: [[-5.7890195e-01  1.8131685e-01  1.2726972e-05]], Axis: [[ 0.01175252 -0.16827995  0.99810714]]\n",
      "Error: 0.020820284262299538, Origin: [[-5.6870955e-01  1.8879209e-01 -6.2410672e-06]], Axis: [[ 0.00930676 -0.16420881  0.99819356]]\n",
      "Error: 0.019794315099716187, Origin: [[-5.5860931e-01  1.9612800e-01 -2.9703186e-05]], Axis: [[ 0.00693203 -0.16022536  0.9982593 ]]\n",
      "Error: 0.01882311701774597, Origin: [[-5.4856437e-01  2.0345446e-01  1.3831259e-06]], Axis: [[ 0.00461302 -0.15607613  0.9983451 ]]\n",
      "Error: 0.017850620672106743, Origin: [[-5.3859502e-01  2.1070659e-01  2.2691809e-06]], Axis: [[ 0.00233264 -0.15197325  0.998409  ]]\n",
      "Error: 0.01689782924950123, Origin: [[-5.2870703e-01  2.1787928e-01  3.1605846e-06]], Axis: [[ 1.2571730e-04 -1.4789692e-01  9.9848402e-01]]\n",
      "Error: 0.015967901796102524, Origin: [[-5.1890510e-01  2.2496478e-01 -2.5139234e-05]], Axis: [[-0.00201664 -0.14383487  0.998556  ]]\n",
      "Error: 0.015063920058310032, Origin: [[-5.09185016e-01  2.31979534e-01 -1.39274125e-05]], Axis: [[-0.00408909 -0.13971987  0.9986275 ]]\n",
      "Error: 0.014181829057633877, Origin: [[-4.9955511e-01  2.3890467e-01  8.4577387e-06]], Axis: [[-0.00609436 -0.13561659  0.998695  ]]\n",
      "Error: 0.013322178274393082, Origin: [[-4.9001941e-01  2.4573678e-01 -1.9996172e-05]], Axis: [[-0.00802412 -0.13152039  0.99876183]]\n",
      "Error: 0.012481859885156155, Origin: [[-4.8058182e-01  2.5247297e-01  7.6764209e-06]], Axis: [[-0.00987203 -0.12743554  0.9988295 ]]\n",
      "Error: 0.011669538915157318, Origin: [[-4.7124556e-01  2.5911009e-01 -1.2850260e-05]], Axis: [[-0.01163273 -0.12336418  0.99889076]]\n",
      "Error: 0.010965265333652496, Origin: [[-4.6202144e-01  2.6563117e-01  8.6684950e-06]], Axis: [[-0.01333386 -0.11925294  0.9989427 ]]\n",
      "Error: 0.010105238296091557, Origin: [[-4.5292374e-01  2.7201489e-01 -4.1271569e-06]], Axis: [[-0.01493311 -0.11527567  0.9990184 ]]\n",
      "Error: 0.009358788840472698, Origin: [[-4.4394624e-01  2.7828160e-01 -1.1100287e-05]], Axis: [[-0.0164471  -0.11130972  0.9990775 ]]\n",
      "Error: 0.008638789877295494, Origin: [[-4.3510178e-01  2.8441596e-01  8.4003059e-06]], Axis: [[-0.01787236 -0.10737866  0.99913424]]\n",
      "Error: 0.008012205362319946, Origin: [[-4.2638147e-01  2.9043993e-01  3.2417993e-06]], Axis: [[-0.01918891 -0.10342897  0.99918044]]\n",
      "Error: 0.00728954654186964, Origin: [[-4.1783303e-01  2.9628041e-01 -2.3938554e-05]], Axis: [[-0.02043789 -0.09957142  0.99924296]]\n",
      "Error: 0.0066346158273518085, Origin: [[-4.0942076e-01  3.0201358e-01 -4.1149764e-05]], Axis: [[-0.02155633 -0.0957806   0.99930316]]\n",
      "Error: 0.006022544112056494, Origin: [[-4.0120551e-01  3.0754575e-01  1.4992979e-05]], Axis: [[-0.02261999 -0.09205171  0.9993478 ]]\n",
      "Error: 0.005424413830041885, Origin: [[-3.9318526e-01  3.1289604e-01 -4.1895591e-06]], Axis: [[-0.02357908 -0.08842682  0.99940014]]\n",
      "Error: 0.004865577910095453, Origin: [[-3.8537410e-01  3.1805894e-01 -1.3504376e-05]], Axis: [[-0.02444111 -0.08488944  0.9994495 ]]\n",
      "Error: 0.004339974839240313, Origin: [[-3.7780142e-01  3.2300761e-01  1.5924187e-06]], Axis: [[-0.02521227 -0.08147237  0.99949276]]\n",
      "Error: 0.00384889030829072, Origin: [[-3.7050584e-01  3.2770842e-01 -9.1880638e-06]], Axis: [[-0.02589833 -0.07820939  0.9995347 ]]\n",
      "Error: 0.003391323843970895, Origin: [[-3.6351654e-01  3.3215156e-01 -2.4628025e-06]], Axis: [[-0.02649601 -0.07511042  0.99957657]]\n",
      "Error: 0.002973249414935708, Origin: [[-3.5688800e-01  3.3626643e-01  6.1170631e-06]], Axis: [[-0.02702544 -0.07219475  0.99961317]]\n",
      "Error: 0.0025872266851365566, Origin: [[-3.5046664e-01  3.4026977e-01 -4.0778636e-05]], Axis: [[-0.02744339 -0.06928403  0.9996502 ]]\n",
      "Error: 0.0022347087506204844, Origin: [[-3.4437191e-01  3.4403703e-01  1.2344885e-05]], Axis: [[-0.02778119 -0.06650785  0.9996835 ]]\n",
      "Error: 0.001918015186674893, Origin: [[-3.3864951e-01  3.4754035e-01  1.1200065e-05]], Axis: [[-0.02804932 -0.06390025  0.999714  ]]\n",
      "Error: 0.0016374281840398908, Origin: [[-3.3328980e-01  3.5080072e-01  5.2310162e-07]], Axis: [[-0.02824744 -0.06143632  0.99974155]]\n",
      "Error: 0.0013901771744713187, Origin: [[-3.2837602e-01  3.5376438e-01 -4.4127642e-06]], Axis: [[-0.02839164 -0.05918772  0.9997678 ]]\n",
      "Error: 0.00117923179641366, Origin: [[-3.238977e-01  3.564555e-01 -9.072541e-06]], Axis: [[-0.02848725 -0.05712282  0.99979055]]\n"
     ]
    }
   ],
   "source": [
    "grad_laser_axis = torch.rand((1, 3), device=device, requires_grad=True)\n",
    "grad_laser_origin = torch.rand((1, 3), device=device, requires_grad=True)\n",
    "\n",
    "# grad_laser_axis = torch.tensor(laser_axis, device=device, requires_grad=True)\n",
    "# grad_laser_origin = torch.tensor(laser_origin, device=device, requires_grad=True)\n",
    "\n",
    "mse = torch.nn.MSELoss()\n",
    "learning_rate = 1e-4\n",
    "optimizer = torch.optim.Adam(\n",
    "    [grad_laser_axis, grad_laser_origin], lr=learning_rate\n",
    ")\n",
    "\n",
    "i = 0\n",
    "while True:\n",
    "    calculated = laser2world(laser_projections, grad_laser_origin, grad_laser_axis)\n",
    "\n",
    "    error = mse(calculated, laser_dots)\n",
    "\n",
    "    if error.item() <= 0.0001:\n",
    "        break\n",
    "\n",
    "    if i % 100 == 0:\n",
    "        print(\n",
    "            f\"Error: {error.item()}, Origin: {grad_laser_origin.cpu().detach().numpy()}, Axis: {grad_laser_axis.cpu().detach().numpy()}\"\n",
    "        )\n",
    "\n",
    "    optimizer.zero_grad()\n",
    "\n",
    "    error += torch.abs(grad_laser_origin[0, 2])\n",
    "    error += torch.abs(torch.linalg.norm(grad_laser_axis) - 1)\n",
    "    error.backward()\n",
    "\n",
    "    optimizer.step()\n",
    "\n",
    "    i += 1"
   ]
  },
  {
   "cell_type": "code",
   "execution_count": 157,
   "metadata": {},
   "outputs": [
    {
     "data": {
      "text/plain": [
       "tensor([[-0.0285, -0.0552,  0.9998]], device='cuda:0', requires_grad=True)"
      ]
     },
     "execution_count": 157,
     "metadata": {},
     "output_type": "execute_result"
    }
   ],
   "source": [
    "grad_laser_axis"
   ]
  },
  {
   "cell_type": "code",
   "execution_count": 143,
   "metadata": {},
   "outputs": [
    {
     "data": {
      "text/plain": [
       "tensor([0., 0., 1.], device='cuda:0')"
      ]
     },
     "execution_count": 143,
     "metadata": {},
     "output_type": "execute_result"
    }
   ],
   "source": [
    "laser_axis"
   ]
  },
  {
   "cell_type": "code",
   "execution_count": 158,
   "metadata": {},
   "outputs": [
    {
     "data": {
      "text/plain": [
       "tensor([[-3.1989e-01,  3.5886e-01, -5.2117e-06]], device='cuda:0',\n",
       "       requires_grad=True)"
      ]
     },
     "execution_count": 158,
     "metadata": {},
     "output_type": "execute_result"
    }
   ],
   "source": [
    "grad_laser_origin"
   ]
  },
  {
   "cell_type": "code",
   "execution_count": 145,
   "metadata": {},
   "outputs": [
    {
     "data": {
      "text/plain": [
       "tensor([0.0500, 0.0500, 0.0000], device='cuda:0')"
      ]
     },
     "execution_count": 145,
     "metadata": {},
     "output_type": "execute_result"
    }
   ],
   "source": [
    "laser_origin"
   ]
  },
  {
   "cell_type": "code",
   "execution_count": 159,
   "metadata": {},
   "outputs": [
    {
     "data": {
      "text/plain": [
       "tensor([[0.0303, 0.0303, 0.1212],\n",
       "        [0.0340, 0.0340, 0.2037],\n",
       "        [0.0368, 0.0368, 0.2947],\n",
       "        [0.0391, 0.0391, 0.3915],\n",
       "        [0.0410, 0.0410, 0.4923],\n",
       "        [0.0426, 0.0426, 0.5962],\n",
       "        [0.0439, 0.0439, 0.7020],\n",
       "        [0.0450, 0.0450, 0.8094],\n",
       "        [0.0459, 0.0459, 0.9177],\n",
       "        [0.0467, 0.0467, 1.0267],\n",
       "        [0.0473, 0.0473, 1.1360],\n",
       "        [0.0479, 0.0479, 1.2455],\n",
       "        [0.0484, 0.0484, 1.3550],\n",
       "        [0.0488, 0.0488, 1.4643],\n",
       "        [0.0492, 0.0492, 1.5734],\n",
       "        [0.0495, 0.0495, 1.6822],\n",
       "        [0.0497, 0.0497, 1.7906],\n",
       "        [0.0500, 0.0500, 1.8985],\n",
       "        [0.0501, 0.0501, 2.0059],\n",
       "        [0.0503, 0.0503, 2.1127],\n",
       "        [0.0504, 0.0504, 2.2191],\n",
       "        [0.0505, 0.0505, 2.3247],\n",
       "        [0.0506, 0.0506, 2.4298],\n",
       "        [0.0507, 0.0507, 2.5342],\n",
       "        [0.0507, 0.0507, 2.6380],\n",
       "        [0.0508, 0.0508, 2.7409],\n",
       "        [0.0508, 0.0508, 2.8434],\n",
       "        [0.0508, 0.0508, 2.9453],\n",
       "        [0.0508, 0.0508, 3.0463],\n",
       "        [0.0508, 0.0508, 3.1468],\n",
       "        [0.0507, 0.0507, 3.2464],\n",
       "        [0.0507, 0.0507, 3.3454],\n",
       "        [0.0506, 0.0506, 3.4435],\n",
       "        [0.0506, 0.0506, 3.5413],\n",
       "        [0.0505, 0.0505, 3.6384],\n",
       "        [0.0505, 0.0505, 3.7346],\n",
       "        [0.0504, 0.0504, 3.8303],\n",
       "        [0.0503, 0.0503, 3.9252],\n",
       "        [0.0502, 0.0502, 4.0196],\n",
       "        [0.0502, 0.0502, 4.1130],\n",
       "        [0.0501, 0.0501, 4.2057],\n",
       "        [0.0500, 0.0500, 4.2980],\n",
       "        [0.0499, 0.0499, 4.3894],\n",
       "        [0.0498, 0.0498, 4.4803],\n",
       "        [0.0497, 0.0497, 4.5710],\n",
       "        [0.0496, 0.0496, 4.6601],\n",
       "        [0.0495, 0.0495, 4.7497],\n",
       "        [0.0494, 0.0494, 4.8380],\n",
       "        [0.0493, 0.0493, 4.9255]], device='cuda:0', grad_fn=<MulBackward0>)"
      ]
     },
     "execution_count": 159,
     "metadata": {},
     "output_type": "execute_result"
    }
   ],
   "source": [
    "laser2world(laser_projections, grad_laser_origin, grad_laser_axis)"
   ]
  },
  {
   "cell_type": "code",
   "execution_count": 160,
   "metadata": {},
   "outputs": [
    {
     "data": {
      "text/plain": [
       "tensor([[0.0500, 0.0500, 0.2000],\n",
       "        [0.0500, 0.0500, 0.3000],\n",
       "        [0.0500, 0.0500, 0.4000],\n",
       "        [0.0500, 0.0500, 0.5000],\n",
       "        [0.0500, 0.0500, 0.6000],\n",
       "        [0.0500, 0.0500, 0.7000],\n",
       "        [0.0500, 0.0500, 0.8000],\n",
       "        [0.0500, 0.0500, 0.9000],\n",
       "        [0.0500, 0.0500, 1.0000],\n",
       "        [0.0500, 0.0500, 1.1000],\n",
       "        [0.0500, 0.0500, 1.2000],\n",
       "        [0.0500, 0.0500, 1.3000],\n",
       "        [0.0500, 0.0500, 1.4000],\n",
       "        [0.0500, 0.0500, 1.5000],\n",
       "        [0.0500, 0.0500, 1.6000],\n",
       "        [0.0500, 0.0500, 1.7000],\n",
       "        [0.0500, 0.0500, 1.8000],\n",
       "        [0.0500, 0.0500, 1.9000],\n",
       "        [0.0500, 0.0500, 2.0000],\n",
       "        [0.0500, 0.0500, 2.1000],\n",
       "        [0.0500, 0.0500, 2.2000],\n",
       "        [0.0500, 0.0500, 2.3000],\n",
       "        [0.0500, 0.0500, 2.4000],\n",
       "        [0.0500, 0.0500, 2.5000],\n",
       "        [0.0500, 0.0500, 2.6000],\n",
       "        [0.0500, 0.0500, 2.7000],\n",
       "        [0.0500, 0.0500, 2.8000],\n",
       "        [0.0500, 0.0500, 2.9000],\n",
       "        [0.0500, 0.0500, 3.0000],\n",
       "        [0.0500, 0.0500, 3.1000],\n",
       "        [0.0500, 0.0500, 3.2000],\n",
       "        [0.0500, 0.0500, 3.3000],\n",
       "        [0.0500, 0.0500, 3.4000],\n",
       "        [0.0500, 0.0500, 3.5000],\n",
       "        [0.0500, 0.0500, 3.6000],\n",
       "        [0.0500, 0.0500, 3.7000],\n",
       "        [0.0500, 0.0500, 3.8000],\n",
       "        [0.0500, 0.0500, 3.9000],\n",
       "        [0.0500, 0.0500, 4.0000],\n",
       "        [0.0500, 0.0500, 4.1000],\n",
       "        [0.0500, 0.0500, 4.2000],\n",
       "        [0.0500, 0.0500, 4.3000],\n",
       "        [0.0500, 0.0500, 4.4000],\n",
       "        [0.0500, 0.0500, 4.5000],\n",
       "        [0.0500, 0.0500, 4.6000],\n",
       "        [0.0500, 0.0500, 4.7000],\n",
       "        [0.0500, 0.0500, 4.8000],\n",
       "        [0.0500, 0.0500, 4.9000],\n",
       "        [0.0500, 0.0500, 5.0000]], device='cuda:0')"
      ]
     },
     "execution_count": 160,
     "metadata": {},
     "output_type": "execute_result"
    }
   ],
   "source": [
    "laser_dots"
   ]
  }
 ],
 "metadata": {
  "kernelspec": {
   "display_name": ".venv",
   "language": "python",
   "name": "python3"
  },
  "language_info": {
   "codemirror_mode": {
    "name": "ipython",
    "version": 3
   },
   "file_extension": ".py",
   "mimetype": "text/x-python",
   "name": "python",
   "nbconvert_exporter": "python",
   "pygments_lexer": "ipython3",
   "version": "3.11.1"
  },
  "orig_nbformat": 4,
  "vscode": {
   "interpreter": {
    "hash": "b2819ea74c09d667d001c29f433ea8c6ab288d92dbc7870b69a83f09b0b7d819"
   }
  }
 },
 "nbformat": 4,
 "nbformat_minor": 2
}
