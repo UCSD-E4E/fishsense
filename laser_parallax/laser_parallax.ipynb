{
 "cells": [
  {
   "cell_type": "code",
   "execution_count": 1,
   "metadata": {},
   "outputs": [],
   "source": [
    "import numpy as np"
   ]
  },
  {
   "attachments": {},
   "cell_type": "markdown",
   "metadata": {},
   "source": [
    "There is a question - can we use a dumb laser rangefinder (or something similar) to do fish length detection?\n",
    "\n",
    "Let's try to answer this with a laser pointer.  This solution uses a single laser pointers to project a dot onto a surface that can then be imaged.  Due to perspective, the corresponding pixel location of the laser dot changes with the distance to the surface, so we can estimate the distance of the surface."
   ]
  },
  {
   "attachments": {},
   "cell_type": "markdown",
   "metadata": {},
   "source": [
    "Let's set the stage for this.  For all simulations, we will use a pinhole camera model.  We'll make life easy and assume an Olympus TG-6 at the widest angle setting, and ignore the air-lens-water interface.\n",
    "\n",
    "Thus, we have the following parameters:\n",
    "- Sensor size (width x height): 4000 x 3000\n",
    "- Pixel Pitch (um): 1.5\n",
    "- Focal Length (mm): 4.5\n",
    "\n",
    "Let's place one lasers pointed parallel to the optical axis with a baseline separation of 50 mm to the left of the optical axis.  We will define the global origin on center of the sensor, with $x$ along the width of the sensor, $y$ along the height of the sensor, and $z$ pointing out of the camera into the lens."
   ]
  },
  {
   "cell_type": "code",
   "execution_count": 2,
   "metadata": {},
   "outputs": [],
   "source": [
    "sensor_size_px = np.array([4000, 3000])\n",
    "pixel_pitch_mm = 0.0015\n",
    "focal_length_mm = 4.5\n",
    "laser_1_origin = np.array([0.05, 0, 0])\n",
    "laser_1_axis = np.array([0, 0, 1])"
   ]
  },
  {
   "attachments": {},
   "cell_type": "markdown",
   "metadata": {},
   "source": [
    "Let's assume we have a flat object 1 m from the sensor.  The lasers will project one dot onto the object.  Specifically, we will have a dot at [-0.050, 0, 1]."
   ]
  },
  {
   "cell_type": "code",
   "execution_count": 3,
   "metadata": {},
   "outputs": [],
   "source": [
    "plane_normal = np.array([0, 0, 1])\n",
    "plane_origin = np.array([0, 0, 1])"
   ]
  },
  {
   "attachments": {},
   "cell_type": "markdown",
   "metadata": {},
   "source": [
    "For a plane defined as $\\left<\\left(\\mathbf{p} - \\mathbf{p_0}\\right), \\mathbf{n}\\right> = 0$ and a vector defined as $\\mathbf{p} = \\mathbf{l_0} + \\mathbf{l}d, d \\in \\mathbb{R}$, the point of intersection is the point on the vector such that $d = \\frac{\\left<\\left(\\mathbf{p_0} - \\mathbf{l_0}\\right), \\mathbf{n}\\right>}{\\left<\\mathbf{l}, \\mathbf{n}\\right>}$"
   ]
  },
  {
   "cell_type": "code",
   "execution_count": 4,
   "metadata": {},
   "outputs": [
    {
     "data": {
      "text/plain": [
       "array([0.05, 0.  , 1.  ])"
      ]
     },
     "execution_count": 4,
     "metadata": {},
     "output_type": "execute_result"
    }
   ],
   "source": [
    "laser_1_scalar = np.dot((plane_origin - laser_1_origin), plane_normal) / np.dot(laser_1_axis, plane_normal)\n",
    "laser_1_dot = laser_1_origin + laser_1_axis * laser_1_scalar\n",
    "laser_1_dot"
   ]
  },
  {
   "attachments": {},
   "cell_type": "markdown",
   "metadata": {},
   "source": [
    "Any point $[x_1, x_2, x_3]$ in the world in the field of view will project onto the image plane as follows:\n",
    "$$ \\begin{pmatrix}y_1\\\\y_2\\end{pmatrix} = -\\frac{f}{x_3}\\begin{pmatrix}x_1\\\\x_2\\end{pmatrix} $$"
   ]
  },
  {
   "cell_type": "code",
   "execution_count": 5,
   "metadata": {},
   "outputs": [
    {
     "data": {
      "text/plain": [
       "array([-150.,   -0.])"
      ]
     },
     "execution_count": 5,
     "metadata": {},
     "output_type": "execute_result"
    }
   ],
   "source": [
    "laser_1_projection = -focal_length_mm / 1e3 / laser_1_dot[2] * laser_1_dot[0:2] / (pixel_pitch_mm / 1e3) # in pixels\n",
    "laser_1_projection"
   ]
  },
  {
   "cell_type": "code",
   "execution_count": 6,
   "metadata": {},
   "outputs": [],
   "source": [
    "def image_coordinate_to_projected_point(S):\n",
    "    assert isinstance(S, np.ndarray)\n",
    "    # S += sensor_size_px / 2\n",
    "    I_project = S * pixel_pitch_mm / 1e3\n",
    "    I = np.array([I_project[0], I_project[1], -focal_length_mm / 1e3])\n",
    "    return I\n"
   ]
  },
  {
   "cell_type": "code",
   "execution_count": 7,
   "metadata": {},
   "outputs": [
    {
     "data": {
      "text/plain": [
       "array([-0.000225, -0.      , -0.0045  ])"
      ]
     },
     "execution_count": 7,
     "metadata": {},
     "output_type": "execute_result"
    }
   ],
   "source": [
    "projected_point = image_coordinate_to_projected_point(laser_1_projection)\n",
    "projected_point"
   ]
  },
  {
   "cell_type": "code",
   "execution_count": 8,
   "metadata": {},
   "outputs": [
    {
     "data": {
      "text/plain": [
       "array([0.04993762, 0.        , 0.99875234])"
      ]
     },
     "execution_count": 8,
     "metadata": {},
     "output_type": "execute_result"
    }
   ],
   "source": [
    "final_laser_axis = -projected_point / np.linalg.norm(projected_point)\n",
    "final_laser_axis"
   ]
  },
  {
   "attachments": {},
   "cell_type": "markdown",
   "metadata": {},
   "source": [
    "Let $\\ell$ be the laser origin, $\\alpha$ be the laser axis, $v$ be the final laser axis, $p$ be the real world laser point\n",
    "\n",
    "Because we know both are the laser line, they should intersect.\n",
    "\n",
    "Thus, we can define the following constants:\n",
    "\n",
    "$$k_1 | k_1 \\alpha + \\ell = p$$\n",
    "$$k_2 | k_2 v = p$$"
   ]
  },
  {
   "attachments": {},
   "cell_type": "markdown",
   "metadata": {},
   "source": [
    "Thus, we can break this down into three equations with two unknowns.\n",
    "\n",
    "$$k_1 \\alpha + \\ell = k_2 v$$\n",
    "\n",
    "Thus:\n",
    "$$ k_1 a_x + \\ell_x = k_2 v_x$$\n",
    "$$ k_1 a_z = k_2 v_z$$\n",
    "$$ k_1 = \\frac{k_2 v_z}{a_z}$$\n",
    "$$a_x \\left(\\frac{k_2 v_z}{a_z}\\right) + \\ell_x = k_2 v_x$$\n",
    "$$\\left(\\frac{a_x v_z}{a_z}\\right) k_2 - k_2 v_x = -\\ell_x$$\n",
    "$$k_2 \\left(\\frac{a_x v_z}{a_z} - v_x\\right) = -\\ell_x$$\n",
    "$$k_2 = \\frac{-\\ell_x}{\\frac{a_x v_z}{a_z} - v_x} = \\frac{-a_z \\ell_x}{a_x v_z - a_z v_x}$$"
   ]
  },
  {
   "cell_type": "code",
   "execution_count": 14,
   "metadata": {},
   "outputs": [
    {
     "data": {
      "text/plain": [
       "1.0012492197250393"
      ]
     },
     "execution_count": 14,
     "metadata": {},
     "output_type": "execute_result"
    }
   ],
   "source": [
    "k_2 = (-laser_1_axis[2] * laser_1_origin[0]) / (laser_1_axis[0] * final_laser_axis[2] - laser_1_axis[2] * final_laser_axis[0])\n",
    "k_2"
   ]
  },
  {
   "cell_type": "code",
   "execution_count": 15,
   "metadata": {},
   "outputs": [
    {
     "data": {
      "text/plain": [
       "array([0.05, 0.  , 1.  ])"
      ]
     },
     "execution_count": 15,
     "metadata": {},
     "output_type": "execute_result"
    }
   ],
   "source": [
    "world_point = k_2 * final_laser_axis\n",
    "world_point"
   ]
  },
  {
   "cell_type": "code",
   "execution_count": null,
   "metadata": {},
   "outputs": [],
   "source": []
  }
 ],
 "metadata": {
  "kernelspec": {
   "display_name": ".venv",
   "language": "python",
   "name": "python3"
  },
  "language_info": {
   "codemirror_mode": {
    "name": "ipython",
    "version": 3
   },
   "file_extension": ".py",
   "mimetype": "text/x-python",
   "name": "python",
   "nbconvert_exporter": "python",
   "pygments_lexer": "ipython3",
   "version": "3.9.12"
  },
  "orig_nbformat": 4,
  "vscode": {
   "interpreter": {
    "hash": "b2819ea74c09d667d001c29f433ea8c6ab288d92dbc7870b69a83f09b0b7d819"
   }
  }
 },
 "nbformat": 4,
 "nbformat_minor": 2
}
